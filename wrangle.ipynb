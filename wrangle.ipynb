{
 "cells": [
  {
   "cell_type": "code",
   "execution_count": 1,
   "id": "2d419085-c28f-450c-937e-eb0c7c84cbb1",
   "metadata": {},
   "outputs": [],
   "source": [
    "# standard imports\n",
    "# Standard imports\n",
    "import numpy as np\n",
    "import pandas as pd\n",
    "\n",
    "# my imports\n",
    "import wrangle as w\n",
    "\n",
    "import warnings\n",
    "warnings.filterwarnings(\"ignore\")\n",
    "\n",
    "import pandas as pd\n",
    "import matplotlib.pyplot as plt\n",
    "import seaborn as sns"
   ]
  },
  {
   "cell_type": "code",
   "execution_count": 2,
   "id": "259940d4-91f2-4391-ac18-1ea630ca4d4c",
   "metadata": {},
   "outputs": [
    {
     "name": "stdout",
     "output_type": "stream",
     "text": [
      "csv file found and loaded\n"
     ]
    }
   ],
   "source": [
    "df, prep_df = w.get_zillow_data()"
   ]
  },
  {
   "cell_type": "code",
   "execution_count": 27,
   "id": "cf189cc9-d199-4dcb-b866-392a8f159c2f",
   "metadata": {},
   "outputs": [
    {
     "data": {
      "text/html": [
       "<div>\n",
       "<style scoped>\n",
       "    .dataframe tbody tr th:only-of-type {\n",
       "        vertical-align: middle;\n",
       "    }\n",
       "\n",
       "    .dataframe tbody tr th {\n",
       "        vertical-align: top;\n",
       "    }\n",
       "\n",
       "    .dataframe thead th {\n",
       "        text-align: right;\n",
       "    }\n",
       "</style>\n",
       "<table border=\"1\" class=\"dataframe\">\n",
       "  <thead>\n",
       "    <tr style=\"text-align: right;\">\n",
       "      <th></th>\n",
       "      <th>bedrooms</th>\n",
       "      <th>bathrooms</th>\n",
       "      <th>area</th>\n",
       "      <th>property_value</th>\n",
       "      <th>yearbuilt</th>\n",
       "      <th>county</th>\n",
       "    </tr>\n",
       "  </thead>\n",
       "  <tbody>\n",
       "    <tr>\n",
       "      <th>4</th>\n",
       "      <td>4.0</td>\n",
       "      <td>2.0</td>\n",
       "      <td>3633</td>\n",
       "      <td>296425.0</td>\n",
       "      <td>2005</td>\n",
       "      <td>LA</td>\n",
       "    </tr>\n",
       "    <tr>\n",
       "      <th>6</th>\n",
       "      <td>3.0</td>\n",
       "      <td>4.0</td>\n",
       "      <td>1620</td>\n",
       "      <td>847770.0</td>\n",
       "      <td>2011</td>\n",
       "      <td>LA</td>\n",
       "    </tr>\n",
       "    <tr>\n",
       "      <th>7</th>\n",
       "      <td>3.0</td>\n",
       "      <td>2.0</td>\n",
       "      <td>2077</td>\n",
       "      <td>646760.0</td>\n",
       "      <td>1926</td>\n",
       "      <td>LA</td>\n",
       "    </tr>\n",
       "    <tr>\n",
       "      <th>11</th>\n",
       "      <td>0.0</td>\n",
       "      <td>0.0</td>\n",
       "      <td>1200</td>\n",
       "      <td>5328.0</td>\n",
       "      <td>1972</td>\n",
       "      <td>LA</td>\n",
       "    </tr>\n",
       "    <tr>\n",
       "      <th>14</th>\n",
       "      <td>0.0</td>\n",
       "      <td>0.0</td>\n",
       "      <td>171</td>\n",
       "      <td>6920.0</td>\n",
       "      <td>1973</td>\n",
       "      <td>LA</td>\n",
       "    </tr>\n",
       "  </tbody>\n",
       "</table>\n",
       "</div>"
      ],
      "text/plain": [
       "    bedrooms  bathrooms  area  property_value  yearbuilt county\n",
       "4        4.0        2.0  3633        296425.0       2005     LA\n",
       "6        3.0        4.0  1620        847770.0       2011     LA\n",
       "7        3.0        2.0  2077        646760.0       1926     LA\n",
       "11       0.0        0.0  1200          5328.0       1972     LA\n",
       "14       0.0        0.0   171          6920.0       1973     LA"
      ]
     },
     "execution_count": 27,
     "metadata": {},
     "output_type": "execute_result"
    }
   ],
   "source": [
    "df.head()"
   ]
  },
  {
   "cell_type": "code",
   "execution_count": 4,
   "id": "94e0f6cc-004c-488b-85da-0e27c286143d",
   "metadata": {},
   "outputs": [
    {
     "name": "stdout",
     "output_type": "stream",
     "text": [
      "<class 'pandas.core.frame.DataFrame'>\n",
      "Int64Index: 2035614 entries, 4 to 2152862\n",
      "Data columns (total 6 columns):\n",
      " #   Column          Dtype  \n",
      "---  ------          -----  \n",
      " 0   bedrooms        float64\n",
      " 1   bathrooms       float64\n",
      " 2   area            int64  \n",
      " 3   property_value  float64\n",
      " 4   yearbuilt       int64  \n",
      " 5   county          object \n",
      "dtypes: float64(3), int64(2), object(1)\n",
      "memory usage: 108.7+ MB\n"
     ]
    }
   ],
   "source": [
    "df.info()"
   ]
  },
  {
   "cell_type": "code",
   "execution_count": 5,
   "id": "2b7bc563-50f3-44fa-9692-1510a2343368",
   "metadata": {},
   "outputs": [
    {
     "data": {
      "text/plain": [
       "(2035614, 6)"
      ]
     },
     "execution_count": 5,
     "metadata": {},
     "output_type": "execute_result"
    }
   ],
   "source": [
    "df.shape"
   ]
  },
  {
   "cell_type": "code",
   "execution_count": 6,
   "id": "6fe48b2e-48d1-4ab8-b7f6-2d29528e0552",
   "metadata": {},
   "outputs": [
    {
     "data": {
      "text/plain": [
       "bedrooms          0\n",
       "bathrooms         0\n",
       "area              0\n",
       "property_value    0\n",
       "yearbuilt         0\n",
       "county            0\n",
       "dtype: int64"
      ]
     },
     "execution_count": 6,
     "metadata": {},
     "output_type": "execute_result"
    }
   ],
   "source": [
    "# Bottom columns have nulls\n",
    "df.isnull().sum()"
   ]
  },
  {
   "cell_type": "code",
   "execution_count": 7,
   "id": "57b82fc2-e2f2-48ab-a95d-63bdd02bee1b",
   "metadata": {},
   "outputs": [],
   "source": [
    "df = df.dropna()"
   ]
  },
  {
   "cell_type": "code",
   "execution_count": 8,
   "id": "f5ca284a-d600-4f53-889a-6f00fa207391",
   "metadata": {},
   "outputs": [
    {
     "data": {
      "text/plain": [
       "bedrooms          0\n",
       "bathrooms         0\n",
       "area              0\n",
       "property_value    0\n",
       "yearbuilt         0\n",
       "county            0\n",
       "dtype: int64"
      ]
     },
     "execution_count": 8,
     "metadata": {},
     "output_type": "execute_result"
    }
   ],
   "source": [
    "df.isnull().sum()"
   ]
  },
  {
   "cell_type": "code",
   "execution_count": 9,
   "id": "2129b3fd-4a07-4575-b8c7-e0b7b7bfaa03",
   "metadata": {},
   "outputs": [
    {
     "data": {
      "text/plain": [
       "(2035614, 6)"
      ]
     },
     "execution_count": 9,
     "metadata": {},
     "output_type": "execute_result"
    }
   ],
   "source": [
    "df.shape"
   ]
  },
  {
   "cell_type": "code",
   "execution_count": 10,
   "id": "22e7ba1b-36df-4613-bda0-dc32808594e1",
   "metadata": {},
   "outputs": [
    {
     "data": {
      "text/plain": [
       "12628"
      ]
     },
     "execution_count": 10,
     "metadata": {},
     "output_type": "execute_result"
    }
   ],
   "source": [
    "2152863 - 2140235"
   ]
  },
  {
   "cell_type": "markdown",
   "id": "08301740-df37-4a8b-908f-157cd0ee3465",
   "metadata": {},
   "source": [
    "# 12,628 rows were dropped during the dropna."
   ]
  },
  {
   "cell_type": "code",
   "execution_count": 11,
   "id": "eae33b64-867b-4897-a4f3-f19994a76f17",
   "metadata": {},
   "outputs": [
    {
     "data": {
      "text/html": [
       "<div>\n",
       "<style scoped>\n",
       "    .dataframe tbody tr th:only-of-type {\n",
       "        vertical-align: middle;\n",
       "    }\n",
       "\n",
       "    .dataframe tbody tr th {\n",
       "        vertical-align: top;\n",
       "    }\n",
       "\n",
       "    .dataframe thead th {\n",
       "        text-align: right;\n",
       "    }\n",
       "</style>\n",
       "<table border=\"1\" class=\"dataframe\">\n",
       "  <thead>\n",
       "    <tr style=\"text-align: right;\">\n",
       "      <th></th>\n",
       "      <th>bedrooms</th>\n",
       "      <th>bathrooms</th>\n",
       "      <th>area</th>\n",
       "      <th>property_value</th>\n",
       "      <th>yearbuilt</th>\n",
       "      <th>county</th>\n",
       "    </tr>\n",
       "  </thead>\n",
       "  <tbody>\n",
       "    <tr>\n",
       "      <th>4</th>\n",
       "      <td>4.0</td>\n",
       "      <td>2.0</td>\n",
       "      <td>3633</td>\n",
       "      <td>296425.0</td>\n",
       "      <td>2005</td>\n",
       "      <td>LA</td>\n",
       "    </tr>\n",
       "    <tr>\n",
       "      <th>6</th>\n",
       "      <td>3.0</td>\n",
       "      <td>4.0</td>\n",
       "      <td>1620</td>\n",
       "      <td>847770.0</td>\n",
       "      <td>2011</td>\n",
       "      <td>LA</td>\n",
       "    </tr>\n",
       "    <tr>\n",
       "      <th>7</th>\n",
       "      <td>3.0</td>\n",
       "      <td>2.0</td>\n",
       "      <td>2077</td>\n",
       "      <td>646760.0</td>\n",
       "      <td>1926</td>\n",
       "      <td>LA</td>\n",
       "    </tr>\n",
       "    <tr>\n",
       "      <th>11</th>\n",
       "      <td>0.0</td>\n",
       "      <td>0.0</td>\n",
       "      <td>1200</td>\n",
       "      <td>5328.0</td>\n",
       "      <td>1972</td>\n",
       "      <td>LA</td>\n",
       "    </tr>\n",
       "    <tr>\n",
       "      <th>14</th>\n",
       "      <td>0.0</td>\n",
       "      <td>0.0</td>\n",
       "      <td>171</td>\n",
       "      <td>6920.0</td>\n",
       "      <td>1973</td>\n",
       "      <td>LA</td>\n",
       "    </tr>\n",
       "  </tbody>\n",
       "</table>\n",
       "</div>"
      ],
      "text/plain": [
       "    bedrooms  bathrooms  area  property_value  yearbuilt county\n",
       "4        4.0        2.0  3633        296425.0       2005     LA\n",
       "6        3.0        4.0  1620        847770.0       2011     LA\n",
       "7        3.0        2.0  2077        646760.0       1926     LA\n",
       "11       0.0        0.0  1200          5328.0       1972     LA\n",
       "14       0.0        0.0   171          6920.0       1973     LA"
      ]
     },
     "execution_count": 11,
     "metadata": {},
     "output_type": "execute_result"
    }
   ],
   "source": [
    "df.head()"
   ]
  },
  {
   "cell_type": "code",
   "execution_count": 12,
   "id": "ca8843c6-3d00-4126-a546-73267ddc9aff",
   "metadata": {},
   "outputs": [
    {
     "data": {
      "text/plain": [
       "4          2005\n",
       "6          2011\n",
       "7          1926\n",
       "11         1972\n",
       "14         1973\n",
       "           ... \n",
       "2152856    2015\n",
       "2152858    2015\n",
       "2152859    2014\n",
       "2152861    2015\n",
       "2152862    2014\n",
       "Name: yearbuilt, Length: 2035614, dtype: int64"
      ]
     },
     "execution_count": 12,
     "metadata": {},
     "output_type": "execute_result"
    }
   ],
   "source": [
    "# Change year build from a float to an int\n",
    "# SAVE YOUR CHANGES TO THE DATAFRAME\n",
    "df.yearbuilt = df.yearbuilt.astype(int)\n",
    "df.yearbuilt"
   ]
  },
  {
   "cell_type": "code",
   "execution_count": 13,
   "id": "a16b7e25-6142-423d-bc1a-ccf5e918159f",
   "metadata": {},
   "outputs": [
    {
     "data": {
      "text/html": [
       "<div>\n",
       "<style scoped>\n",
       "    .dataframe tbody tr th:only-of-type {\n",
       "        vertical-align: middle;\n",
       "    }\n",
       "\n",
       "    .dataframe tbody tr th {\n",
       "        vertical-align: top;\n",
       "    }\n",
       "\n",
       "    .dataframe thead th {\n",
       "        text-align: right;\n",
       "    }\n",
       "</style>\n",
       "<table border=\"1\" class=\"dataframe\">\n",
       "  <thead>\n",
       "    <tr style=\"text-align: right;\">\n",
       "      <th></th>\n",
       "      <th>bedrooms</th>\n",
       "      <th>bathrooms</th>\n",
       "      <th>area</th>\n",
       "      <th>property_value</th>\n",
       "      <th>yearbuilt</th>\n",
       "      <th>county</th>\n",
       "    </tr>\n",
       "  </thead>\n",
       "  <tbody>\n",
       "    <tr>\n",
       "      <th>4</th>\n",
       "      <td>4.0</td>\n",
       "      <td>2.0</td>\n",
       "      <td>3633</td>\n",
       "      <td>296425.0</td>\n",
       "      <td>2005</td>\n",
       "      <td>LA</td>\n",
       "    </tr>\n",
       "    <tr>\n",
       "      <th>6</th>\n",
       "      <td>3.0</td>\n",
       "      <td>4.0</td>\n",
       "      <td>1620</td>\n",
       "      <td>847770.0</td>\n",
       "      <td>2011</td>\n",
       "      <td>LA</td>\n",
       "    </tr>\n",
       "    <tr>\n",
       "      <th>7</th>\n",
       "      <td>3.0</td>\n",
       "      <td>2.0</td>\n",
       "      <td>2077</td>\n",
       "      <td>646760.0</td>\n",
       "      <td>1926</td>\n",
       "      <td>LA</td>\n",
       "    </tr>\n",
       "    <tr>\n",
       "      <th>11</th>\n",
       "      <td>0.0</td>\n",
       "      <td>0.0</td>\n",
       "      <td>1200</td>\n",
       "      <td>5328.0</td>\n",
       "      <td>1972</td>\n",
       "      <td>LA</td>\n",
       "    </tr>\n",
       "    <tr>\n",
       "      <th>14</th>\n",
       "      <td>0.0</td>\n",
       "      <td>0.0</td>\n",
       "      <td>171</td>\n",
       "      <td>6920.0</td>\n",
       "      <td>1973</td>\n",
       "      <td>LA</td>\n",
       "    </tr>\n",
       "  </tbody>\n",
       "</table>\n",
       "</div>"
      ],
      "text/plain": [
       "    bedrooms  bathrooms  area  property_value  yearbuilt county\n",
       "4        4.0        2.0  3633        296425.0       2005     LA\n",
       "6        3.0        4.0  1620        847770.0       2011     LA\n",
       "7        3.0        2.0  2077        646760.0       1926     LA\n",
       "11       0.0        0.0  1200          5328.0       1972     LA\n",
       "14       0.0        0.0   171          6920.0       1973     LA"
      ]
     },
     "execution_count": 13,
     "metadata": {},
     "output_type": "execute_result"
    }
   ],
   "source": [
    "df.head()"
   ]
  },
  {
   "cell_type": "code",
   "execution_count": 14,
   "id": "c4624084-9579-426f-bce7-2e7b4461aabc",
   "metadata": {},
   "outputs": [
    {
     "name": "stdout",
     "output_type": "stream",
     "text": [
      "bedrooms\n",
      "3.0     939386\n",
      "4.0     596258\n",
      "2.0     329008\n",
      "5.0     122737\n",
      "1.0      22582\n",
      "6.0      17647\n",
      "0.0       4386\n",
      "7.0       2848\n",
      "8.0        538\n",
      "9.0        136\n",
      "10.0        55\n",
      "11.0        16\n",
      "13.0         5\n",
      "15.0         4\n",
      "12.0         4\n",
      "14.0         2\n",
      "16.0         2\n",
      "Name: bedrooms, dtype: int64\n",
      "-----------------------\n",
      "bathrooms\n",
      "2.00     932240\n",
      "1.00     411507\n",
      "3.00     400992\n",
      "2.50     140080\n",
      "4.00      63011\n",
      "1.50      31019\n",
      "3.50      22521\n",
      "5.00      14244\n",
      "4.50      10627\n",
      "0.00       4248\n",
      "6.00       2838\n",
      "5.50       1231\n",
      "7.00        621\n",
      "6.50        150\n",
      "8.00        134\n",
      "7.50         66\n",
      "9.00         30\n",
      "10.00        16\n",
      "0.50         13\n",
      "11.00         5\n",
      "16.00         4\n",
      "1.75          3\n",
      "20.00         3\n",
      "9.50          3\n",
      "18.00         2\n",
      "14.00         2\n",
      "12.00         1\n",
      "8.50          1\n",
      "13.00         1\n",
      "15.00         1\n",
      "Name: bathrooms, dtype: int64\n",
      "-----------------------\n",
      "area\n",
      "1200     5175\n",
      "1080     4374\n",
      "1120     4351\n",
      "1400     3813\n",
      "1440     3668\n",
      "         ... \n",
      "7741        1\n",
      "13123       1\n",
      "326         1\n",
      "6876        1\n",
      "7026        1\n",
      "Name: area, Length: 6652, dtype: int64\n",
      "-----------------------\n",
      "property_value\n",
      "450000.0    820\n",
      "500000.0    775\n",
      "400000.0    725\n",
      "430000.0    690\n",
      "440000.0    684\n",
      "           ... \n",
      "180963.0      1\n",
      "287323.0      1\n",
      "128826.0      1\n",
      "696965.0      1\n",
      "536061.0      1\n",
      "Name: property_value, Length: 523833, dtype: int64\n",
      "-----------------------\n",
      "yearbuilt\n",
      "1955    83126\n",
      "1950    69969\n",
      "1954    67987\n",
      "1953    61074\n",
      "1956    60665\n",
      "        ...  \n",
      "1855        1\n",
      "1823        1\n",
      "1807        1\n",
      "1877        1\n",
      "1874        1\n",
      "Name: yearbuilt, Length: 152, dtype: int64\n",
      "-----------------------\n",
      "county\n",
      "LA         1357486\n",
      "Orange      519937\n",
      "Ventura     158191\n",
      "Name: county, dtype: int64\n",
      "-----------------------\n"
     ]
    }
   ],
   "source": [
    "for i in df.columns:\n",
    "    print (i)\n",
    "    print(df[i].value_counts())\n",
    "    print ('-----------------------')"
   ]
  },
  {
   "cell_type": "markdown",
   "id": "27ef56af-d937-4496-926b-488962aca1d1",
   "metadata": {},
   "source": [
    "## Rename columns"
   ]
  },
  {
   "cell_type": "code",
   "execution_count": 15,
   "id": "de8964e9-a4ad-41b1-b87d-daced09416aa",
   "metadata": {},
   "outputs": [
    {
     "data": {
      "text/plain": [
       "Index(['bedrooms', 'bathrooms', 'area', 'property_value', 'yearbuilt',\n",
       "       'county'],\n",
       "      dtype='object')"
      ]
     },
     "execution_count": 15,
     "metadata": {},
     "output_type": "execute_result"
    }
   ],
   "source": [
    "df.columns"
   ]
  },
  {
   "cell_type": "code",
   "execution_count": 16,
   "id": "73339a01-35bf-4e1a-9e51-dcd1c3f9b1fc",
   "metadata": {},
   "outputs": [],
   "source": [
    "df = df.rename(columns={'bedroomcnt':'bedrooms', 'bathroomcnt':'bathrooms', 'calculatedfinishedsquarefeet':'area',\n",
    "       'taxvaluedollarcnt':'taxvalue', 'fips':'county'})"
   ]
  },
  {
   "cell_type": "code",
   "execution_count": 17,
   "id": "0f6cb7e5-0dc9-4314-bd3e-59ca92d11961",
   "metadata": {},
   "outputs": [
    {
     "data": {
      "text/html": [
       "<div>\n",
       "<style scoped>\n",
       "    .dataframe tbody tr th:only-of-type {\n",
       "        vertical-align: middle;\n",
       "    }\n",
       "\n",
       "    .dataframe tbody tr th {\n",
       "        vertical-align: top;\n",
       "    }\n",
       "\n",
       "    .dataframe thead th {\n",
       "        text-align: right;\n",
       "    }\n",
       "</style>\n",
       "<table border=\"1\" class=\"dataframe\">\n",
       "  <thead>\n",
       "    <tr style=\"text-align: right;\">\n",
       "      <th></th>\n",
       "      <th>bedrooms</th>\n",
       "      <th>bathrooms</th>\n",
       "      <th>area</th>\n",
       "      <th>property_value</th>\n",
       "      <th>yearbuilt</th>\n",
       "      <th>county</th>\n",
       "    </tr>\n",
       "  </thead>\n",
       "  <tbody>\n",
       "    <tr>\n",
       "      <th>4</th>\n",
       "      <td>4.0</td>\n",
       "      <td>2.0</td>\n",
       "      <td>3633</td>\n",
       "      <td>296425.0</td>\n",
       "      <td>2005</td>\n",
       "      <td>LA</td>\n",
       "    </tr>\n",
       "    <tr>\n",
       "      <th>6</th>\n",
       "      <td>3.0</td>\n",
       "      <td>4.0</td>\n",
       "      <td>1620</td>\n",
       "      <td>847770.0</td>\n",
       "      <td>2011</td>\n",
       "      <td>LA</td>\n",
       "    </tr>\n",
       "    <tr>\n",
       "      <th>7</th>\n",
       "      <td>3.0</td>\n",
       "      <td>2.0</td>\n",
       "      <td>2077</td>\n",
       "      <td>646760.0</td>\n",
       "      <td>1926</td>\n",
       "      <td>LA</td>\n",
       "    </tr>\n",
       "    <tr>\n",
       "      <th>11</th>\n",
       "      <td>0.0</td>\n",
       "      <td>0.0</td>\n",
       "      <td>1200</td>\n",
       "      <td>5328.0</td>\n",
       "      <td>1972</td>\n",
       "      <td>LA</td>\n",
       "    </tr>\n",
       "    <tr>\n",
       "      <th>14</th>\n",
       "      <td>0.0</td>\n",
       "      <td>0.0</td>\n",
       "      <td>171</td>\n",
       "      <td>6920.0</td>\n",
       "      <td>1973</td>\n",
       "      <td>LA</td>\n",
       "    </tr>\n",
       "    <tr>\n",
       "      <th>...</th>\n",
       "      <td>...</td>\n",
       "      <td>...</td>\n",
       "      <td>...</td>\n",
       "      <td>...</td>\n",
       "      <td>...</td>\n",
       "      <td>...</td>\n",
       "    </tr>\n",
       "    <tr>\n",
       "      <th>2152856</th>\n",
       "      <td>4.0</td>\n",
       "      <td>4.0</td>\n",
       "      <td>4375</td>\n",
       "      <td>422400.0</td>\n",
       "      <td>2015</td>\n",
       "      <td>LA</td>\n",
       "    </tr>\n",
       "    <tr>\n",
       "      <th>2152858</th>\n",
       "      <td>4.0</td>\n",
       "      <td>3.0</td>\n",
       "      <td>2262</td>\n",
       "      <td>960756.0</td>\n",
       "      <td>2015</td>\n",
       "      <td>Orange</td>\n",
       "    </tr>\n",
       "    <tr>\n",
       "      <th>2152859</th>\n",
       "      <td>4.0</td>\n",
       "      <td>4.5</td>\n",
       "      <td>3127</td>\n",
       "      <td>536061.0</td>\n",
       "      <td>2014</td>\n",
       "      <td>Orange</td>\n",
       "    </tr>\n",
       "    <tr>\n",
       "      <th>2152861</th>\n",
       "      <td>3.0</td>\n",
       "      <td>2.5</td>\n",
       "      <td>1974</td>\n",
       "      <td>424353.0</td>\n",
       "      <td>2015</td>\n",
       "      <td>Orange</td>\n",
       "    </tr>\n",
       "    <tr>\n",
       "      <th>2152862</th>\n",
       "      <td>4.0</td>\n",
       "      <td>4.0</td>\n",
       "      <td>2110</td>\n",
       "      <td>554009.0</td>\n",
       "      <td>2014</td>\n",
       "      <td>LA</td>\n",
       "    </tr>\n",
       "  </tbody>\n",
       "</table>\n",
       "<p>2035614 rows × 6 columns</p>\n",
       "</div>"
      ],
      "text/plain": [
       "         bedrooms  bathrooms  area  property_value  yearbuilt  county\n",
       "4             4.0        2.0  3633        296425.0       2005      LA\n",
       "6             3.0        4.0  1620        847770.0       2011      LA\n",
       "7             3.0        2.0  2077        646760.0       1926      LA\n",
       "11            0.0        0.0  1200          5328.0       1972      LA\n",
       "14            0.0        0.0   171          6920.0       1973      LA\n",
       "...           ...        ...   ...             ...        ...     ...\n",
       "2152856       4.0        4.0  4375        422400.0       2015      LA\n",
       "2152858       4.0        3.0  2262        960756.0       2015  Orange\n",
       "2152859       4.0        4.5  3127        536061.0       2014  Orange\n",
       "2152861       3.0        2.5  1974        424353.0       2015  Orange\n",
       "2152862       4.0        4.0  2110        554009.0       2014      LA\n",
       "\n",
       "[2035614 rows x 6 columns]"
      ]
     },
     "execution_count": 17,
     "metadata": {},
     "output_type": "execute_result"
    }
   ],
   "source": [
    "df"
   ]
  },
  {
   "cell_type": "markdown",
   "id": "d1edcc74-3697-4ad3-a69a-838ca2d0d02c",
   "metadata": {},
   "source": [
    "## Handle nulls"
   ]
  },
  {
   "cell_type": "code",
   "execution_count": 18,
   "id": "c1925756-c19d-44ff-94d9-716145734929",
   "metadata": {},
   "outputs": [],
   "source": [
    "#df = df.dropna()\n",
    "#df.isnull().sum()"
   ]
  },
  {
   "cell_type": "markdown",
   "id": "46f95729-e5bb-4909-a597-9f6048d88799",
   "metadata": {},
   "source": [
    "## Check "
   ]
  },
  {
   "cell_type": "code",
   "execution_count": 19,
   "id": "5e2f02d8-f5b9-45a7-ab55-d6847b8eaaf9",
   "metadata": {},
   "outputs": [],
   "source": [
    "#df.isnull().sum()"
   ]
  },
  {
   "cell_type": "markdown",
   "id": "e4f9a385-1b0d-4aed-bab9-6d7935363a7f",
   "metadata": {
    "tags": []
   },
   "source": [
    "6037 - LA county\n",
    "6059 - Orange county\n",
    "6111 - Ventura county"
   ]
  },
  {
   "cell_type": "code",
   "execution_count": 20,
   "id": "03b90a73-579a-4e7f-aea9-6839ececadb4",
   "metadata": {},
   "outputs": [
    {
     "data": {
      "text/html": [
       "<div>\n",
       "<style scoped>\n",
       "    .dataframe tbody tr th:only-of-type {\n",
       "        vertical-align: middle;\n",
       "    }\n",
       "\n",
       "    .dataframe tbody tr th {\n",
       "        vertical-align: top;\n",
       "    }\n",
       "\n",
       "    .dataframe thead th {\n",
       "        text-align: right;\n",
       "    }\n",
       "</style>\n",
       "<table border=\"1\" class=\"dataframe\">\n",
       "  <thead>\n",
       "    <tr style=\"text-align: right;\">\n",
       "      <th></th>\n",
       "      <th>bedrooms</th>\n",
       "      <th>bathrooms</th>\n",
       "      <th>area</th>\n",
       "      <th>property_value</th>\n",
       "      <th>yearbuilt</th>\n",
       "      <th>county</th>\n",
       "    </tr>\n",
       "  </thead>\n",
       "  <tbody>\n",
       "    <tr>\n",
       "      <th>4</th>\n",
       "      <td>4.0</td>\n",
       "      <td>2.0</td>\n",
       "      <td>3633</td>\n",
       "      <td>296425.0</td>\n",
       "      <td>2005</td>\n",
       "      <td>LA</td>\n",
       "    </tr>\n",
       "    <tr>\n",
       "      <th>6</th>\n",
       "      <td>3.0</td>\n",
       "      <td>4.0</td>\n",
       "      <td>1620</td>\n",
       "      <td>847770.0</td>\n",
       "      <td>2011</td>\n",
       "      <td>LA</td>\n",
       "    </tr>\n",
       "    <tr>\n",
       "      <th>7</th>\n",
       "      <td>3.0</td>\n",
       "      <td>2.0</td>\n",
       "      <td>2077</td>\n",
       "      <td>646760.0</td>\n",
       "      <td>1926</td>\n",
       "      <td>LA</td>\n",
       "    </tr>\n",
       "    <tr>\n",
       "      <th>11</th>\n",
       "      <td>0.0</td>\n",
       "      <td>0.0</td>\n",
       "      <td>1200</td>\n",
       "      <td>5328.0</td>\n",
       "      <td>1972</td>\n",
       "      <td>LA</td>\n",
       "    </tr>\n",
       "    <tr>\n",
       "      <th>14</th>\n",
       "      <td>0.0</td>\n",
       "      <td>0.0</td>\n",
       "      <td>171</td>\n",
       "      <td>6920.0</td>\n",
       "      <td>1973</td>\n",
       "      <td>LA</td>\n",
       "    </tr>\n",
       "  </tbody>\n",
       "</table>\n",
       "</div>"
      ],
      "text/plain": [
       "    bedrooms  bathrooms  area  property_value  yearbuilt county\n",
       "4        4.0        2.0  3633        296425.0       2005     LA\n",
       "6        3.0        4.0  1620        847770.0       2011     LA\n",
       "7        3.0        2.0  2077        646760.0       1926     LA\n",
       "11       0.0        0.0  1200          5328.0       1972     LA\n",
       "14       0.0        0.0   171          6920.0       1973     LA"
      ]
     },
     "execution_count": 20,
     "metadata": {},
     "output_type": "execute_result"
    }
   ],
   "source": [
    "df.head()"
   ]
  },
  {
   "cell_type": "code",
   "execution_count": 21,
   "id": "d753fe07-89aa-472f-b08e-04fe629db837",
   "metadata": {},
   "outputs": [
    {
     "data": {
      "image/png": "[encoded data removed]",
      "text/plain": [
       "<Figure size 1600x600 with 6 Axes>"
      ]
     },
     "metadata": {},
     "output_type": "display_data"
    }
   ],
   "source": [
    "plt.figure(figsize=(16, 6))\n",
    "\n",
    "for i, col in enumerate(df.columns):\n",
    "\n",
    "    # i starts at 0, but plot nos should start at 1\n",
    "    plot_number = i + 1 \n",
    "\n",
    "    # Create subplot.\n",
    "    plt.subplot(2, 4, plot_number)\n",
    "\n",
    "    # Title with column name.\n",
    "    plt.title(col)\n",
    "\n",
    "    # Display boxplot for column.\n",
    "    plt.hist(df[col])\n",
    "\n",
    "plt.show()"
   ]
  },
  {
   "cell_type": "code",
   "execution_count": 22,
   "id": "8c382e92-2958-4af0-9596-2347f9c70240",
   "metadata": {},
   "outputs": [],
   "source": [
    "from sklearn.model_selection import train_test_split"
   ]
  },
  {
   "cell_type": "code",
   "execution_count": 23,
   "id": "54b24da4-b7a6-4a4a-878f-56b91e8e42f5",
   "metadata": {},
   "outputs": [
    {
     "name": "stdout",
     "output_type": "stream",
     "text": [
      "bedrooms\n"
     ]
    },
    {
     "data": {
      "image/png": "[encoded data removed]",
      "text/plain": [
       "<Figure size 640x480 with 1 Axes>"
      ]
     },
     "metadata": {},
     "output_type": "display_data"
    },
    {
     "name": "stdout",
     "output_type": "stream",
     "text": [
      "0.0       4386\n",
      "1.0      22582\n",
      "2.0     329008\n",
      "3.0     939386\n",
      "4.0     596258\n",
      "5.0     122737\n",
      "6.0      17647\n",
      "7.0       2848\n",
      "8.0        538\n",
      "9.0        136\n",
      "10.0        55\n",
      "11.0        16\n",
      "12.0         4\n",
      "13.0         5\n",
      "14.0         2\n",
      "15.0         4\n",
      "16.0         2\n",
      "Name: bedrooms, dtype: int64\n",
      "\n",
      "bathrooms\n"
     ]
    },
    {
     "data": {
      "image/png": "[encoded data removed]",
      "text/plain": [
       "<Figure size 640x480 with 1 Axes>"
      ]
     },
     "metadata": {},
     "output_type": "display_data"
    },
    {
     "name": "stdout",
     "output_type": "stream",
     "text": [
      "0.00       4248\n",
      "0.50         13\n",
      "1.00     411507\n",
      "1.50      31019\n",
      "1.75          3\n",
      "2.00     932240\n",
      "2.50     140080\n",
      "3.00     400992\n",
      "3.50      22521\n",
      "4.00      63011\n",
      "4.50      10627\n",
      "5.00      14244\n",
      "5.50       1231\n",
      "6.00       2838\n",
      "6.50        150\n",
      "7.00        621\n",
      "7.50         66\n",
      "8.00        134\n",
      "8.50          1\n",
      "9.00         30\n",
      "9.50          3\n",
      "10.00        16\n",
      "11.00         5\n",
      "12.00         1\n",
      "13.00         1\n",
      "14.00         2\n",
      "15.00         1\n",
      "16.00         4\n",
      "18.00         2\n",
      "20.00         3\n",
      "Name: bathrooms, dtype: int64\n",
      "\n",
      "area\n"
     ]
    },
    {
     "data": {
      "image/png": "[encoded data removed]",
      "text/plain": [
       "<Figure size 640x480 with 1 Axes>"
      ]
     },
     "metadata": {},
     "output_type": "display_data"
    },
    {
     "name": "stdout",
     "output_type": "stream",
     "text": [
      "1        6\n",
      "2        1\n",
      "3        6\n",
      "10       2\n",
      "12       1\n",
      "        ..\n",
      "19460    1\n",
      "21734    1\n",
      "22702    1\n",
      "22800    1\n",
      "24220    1\n",
      "Name: area, Length: 6652, dtype: int64\n",
      "\n",
      "property_value\n"
     ]
    },
    {
     "data": {
      "image/png": "[encoded data removed]",
      "text/plain": [
       "<Figure size 640x480 with 1 Axes>"
      ]
     },
     "metadata": {},
     "output_type": "display_data"
    },
    {
     "name": "stdout",
     "output_type": "stream",
     "text": [
      "1.0           1\n",
      "4.0           1\n",
      "9.0          16\n",
      "10.0         24\n",
      "11.0          1\n",
      "             ..\n",
      "1203425.0     1\n",
      "1203432.0     1\n",
      "1203436.0     1\n",
      "1203437.0     1\n",
      "1203438.0     1\n",
      "Name: property_value, Length: 523833, dtype: int64\n",
      "\n",
      "yearbuilt\n"
     ]
    },
    {
     "data": {
      "image/png": "[encoded data removed]",
      "text/plain": [
       "<Figure size 640x480 with 1 Axes>"
      ]
     },
     "metadata": {},
     "output_type": "display_data"
    },
    {
     "name": "stdout",
     "output_type": "stream",
     "text": [
      "1801       3\n",
      "1807       1\n",
      "1812       2\n",
      "1823       1\n",
      "1833       1\n",
      "        ... \n",
      "2012    2389\n",
      "2013    3219\n",
      "2014    3324\n",
      "2015    2639\n",
      "2016      74\n",
      "Name: yearbuilt, Length: 152, dtype: int64\n",
      "\n"
     ]
    }
   ],
   "source": [
    "for col in df.columns[:-1]:\n",
    "    print(col)\n",
    "    sns.boxplot(data=df, x=col)\n",
    "    plt.show()\n",
    "    \n",
    "    print(df[col].value_counts().sort_index())\n",
    "    print()"
   ]
  },
  {
   "cell_type": "code",
   "execution_count": 24,
   "id": "69380720-c4db-4122-a417-be72a1cea2f1",
   "metadata": {},
   "outputs": [],
   "source": [
    "train_validate, test = train_test_split(df, test_size=.2, random_state=123)\n",
    "train, validate = train_test_split(train_validate, test_size=.25, random_state=123)"
   ]
  },
  {
   "cell_type": "code",
   "execution_count": 25,
   "id": "fd5ab963-2dce-49dc-b33c-b690992f3c19",
   "metadata": {},
   "outputs": [
    {
     "data": {
      "text/html": [
       "<div>\n",
       "<style scoped>\n",
       "    .dataframe tbody tr th:only-of-type {\n",
       "        vertical-align: middle;\n",
       "    }\n",
       "\n",
       "    .dataframe tbody tr th {\n",
       "        vertical-align: top;\n",
       "    }\n",
       "\n",
       "    .dataframe thead th {\n",
       "        text-align: right;\n",
       "    }\n",
       "</style>\n",
       "<table border=\"1\" class=\"dataframe\">\n",
       "  <thead>\n",
       "    <tr style=\"text-align: right;\">\n",
       "      <th></th>\n",
       "      <th>bedrooms</th>\n",
       "      <th>bathrooms</th>\n",
       "      <th>area</th>\n",
       "      <th>property_value</th>\n",
       "      <th>yearbuilt</th>\n",
       "      <th>county</th>\n",
       "    </tr>\n",
       "  </thead>\n",
       "  <tbody>\n",
       "    <tr>\n",
       "      <th>1284317</th>\n",
       "      <td>3.0</td>\n",
       "      <td>1.0</td>\n",
       "      <td>1020</td>\n",
       "      <td>69119.0</td>\n",
       "      <td>1944</td>\n",
       "      <td>LA</td>\n",
       "    </tr>\n",
       "    <tr>\n",
       "      <th>1082288</th>\n",
       "      <td>3.0</td>\n",
       "      <td>2.0</td>\n",
       "      <td>1522</td>\n",
       "      <td>430150.0</td>\n",
       "      <td>1951</td>\n",
       "      <td>LA</td>\n",
       "    </tr>\n",
       "    <tr>\n",
       "      <th>1842845</th>\n",
       "      <td>4.0</td>\n",
       "      <td>3.0</td>\n",
       "      <td>1878</td>\n",
       "      <td>392542.0</td>\n",
       "      <td>1956</td>\n",
       "      <td>LA</td>\n",
       "    </tr>\n",
       "    <tr>\n",
       "      <th>1531530</th>\n",
       "      <td>0.0</td>\n",
       "      <td>0.0</td>\n",
       "      <td>400</td>\n",
       "      <td>29701.0</td>\n",
       "      <td>1954</td>\n",
       "      <td>LA</td>\n",
       "    </tr>\n",
       "    <tr>\n",
       "      <th>457903</th>\n",
       "      <td>3.0</td>\n",
       "      <td>1.0</td>\n",
       "      <td>1419</td>\n",
       "      <td>421230.0</td>\n",
       "      <td>1952</td>\n",
       "      <td>LA</td>\n",
       "    </tr>\n",
       "  </tbody>\n",
       "</table>\n",
       "</div>"
      ],
      "text/plain": [
       "         bedrooms  bathrooms  area  property_value  yearbuilt county\n",
       "1284317       3.0        1.0  1020         69119.0       1944     LA\n",
       "1082288       3.0        2.0  1522        430150.0       1951     LA\n",
       "1842845       4.0        3.0  1878        392542.0       1956     LA\n",
       "1531530       0.0        0.0   400         29701.0       1954     LA\n",
       "457903        3.0        1.0  1419        421230.0       1952     LA"
      ]
     },
     "execution_count": 25,
     "metadata": {},
     "output_type": "execute_result"
    }
   ],
   "source": [
    "train.head()"
   ]
  },
  {
   "cell_type": "code",
   "execution_count": 26,
   "id": "0e8dd3eb-8e41-449d-aa6a-e8bcd246e4e4",
   "metadata": {},
   "outputs": [
    {
     "data": {
      "text/plain": [
       "(1221368, 6)"
      ]
     },
     "execution_count": 26,
     "metadata": {},
     "output_type": "execute_result"
    }
   ],
   "source": [
    "train.shape"
   ]
  },
  {
   "cell_type": "code",
   "execution_count": null,
   "id": "ce6e8672-a504-4ce8-a16d-bd09f8732dfe",
   "metadata": {},
   "outputs": [],
   "source": []
  }
 ],
 "metadata": {
  "kernelspec": {
   "display_name": "Python 3 (ipykernel)",
   "language": "python",
   "name": "python3"
  },
  "language_info": {
   "codemirror_mode": {
    "name": "ipython",
    "version": 3
   },
   "file_extension": ".py",
   "mimetype": "text/x-python",
   "name": "python",
   "nbconvert_exporter": "python",
   "pygments_lexer": "ipython3",
   "version": "3.9.13"
  }
 },
 "nbformat": 4,
 "nbformat_minor": 5
}
