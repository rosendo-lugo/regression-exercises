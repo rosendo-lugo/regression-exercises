{
 "cells": [
  {
   "cell_type": "markdown",
   "id": "d467f7ea-5aec-40eb-9295-0e74e7d7583a",
   "metadata": {},
   "source": [
    "# Evaluating Regression Models"
   ]
  },
  {
   "cell_type": "markdown",
   "id": "539a64a2-8c2f-479c-b267-1a33b5a9bb85",
   "metadata": {},
   "source": [
    "## Exercises\n",
    "\n",
    "Do you work for this exercise in either a jupyter notebook named evaluate within your regression-exercises repository. By the end of this exercise you will also create a python script named evaluate, so the overall deliverables for this exercise are the python script and jupyter notebook both with the name evaluate within your regression-exercises repo."
   ]
  },
  {
   "cell_type": "markdown",
   "id": "4f9aa32c-46f1-46cf-8058-68fb01d3163c",
   "metadata": {},
   "source": [
    "## Imports"
   ]
  },
  {
   "cell_type": "code",
   "execution_count": 1,
   "id": "9e56acd9-380a-4918-99f6-c090d5ec1014",
   "metadata": {},
   "outputs": [],
   "source": [
    "# Standard imports\n",
    "import numpy as np\n",
    "import pandas as pd\n",
    "\n",
    "# My imports\n",
    "import wrangle as w\n",
    "import explore as e\n",
    "\n",
    "# Viz imports\n",
    "import matplotlib.pyplot as plt\n",
    "import seaborn as sns\n",
    "\n",
    "import pydataset\n",
    "\n",
    "# Need to add this line to get plots to show!\n",
    "%matplotlib inline\n",
    "\n",
    "# Stats\n",
    "from scipy import stats\n",
    "import sklearn.preprocessing\n",
    "from sklearn.linear_model import LinearRegression\n",
    "from sklearn.metrics import mean_squared_error\n",
    "from sklearn.metrics import r2_score\n",
    "\n",
    "\n",
    "# Ignore warnings\n",
    "import warnings\n",
    "warnings.filterwarnings('ignore')"
   ]
  },
  {
   "cell_type": "markdown",
   "id": "7c31bc3d-61f2-4131-82bc-1bccae200287",
   "metadata": {},
   "source": [
    "### 1. Load your zillow dataset."
   ]
  },
  {
   "cell_type": "code",
   "execution_count": 2,
   "id": "0d9e1736-eab7-45eb-99e0-cb740c447bf8",
   "metadata": {},
   "outputs": [
    {
     "name": "stdout",
     "output_type": "stream",
     "text": [
      "csv file found and loaded\n"
     ]
    }
   ],
   "source": [
    "df, prep_df = w.get_zillow_data()"
   ]
  },
  {
   "cell_type": "code",
   "execution_count": 3,
   "id": "77c45cde-dc11-4f57-9b1a-66fb2b5dcb24",
   "metadata": {},
   "outputs": [],
   "source": [
    "train, validate, test = w.get_zillow_split(df)"
   ]
  },
  {
   "cell_type": "code",
   "execution_count": 4,
   "id": "de59c157-8a71-4c8f-9853-fdeb3303e1b5",
   "metadata": {},
   "outputs": [
    {
     "data": {
      "text/html": [
       "<div>\n",
       "<style scoped>\n",
       "    .dataframe tbody tr th:only-of-type {\n",
       "        vertical-align: middle;\n",
       "    }\n",
       "\n",
       "    .dataframe tbody tr th {\n",
       "        vertical-align: top;\n",
       "    }\n",
       "\n",
       "    .dataframe thead th {\n",
       "        text-align: right;\n",
       "    }\n",
       "</style>\n",
       "<table border=\"1\" class=\"dataframe\">\n",
       "  <thead>\n",
       "    <tr style=\"text-align: right;\">\n",
       "      <th></th>\n",
       "      <th>bedrooms</th>\n",
       "      <th>bathrooms</th>\n",
       "      <th>area</th>\n",
       "      <th>property_value</th>\n",
       "      <th>yearbuilt</th>\n",
       "      <th>taxamount</th>\n",
       "      <th>county</th>\n",
       "      <th>tax_rate</th>\n",
       "    </tr>\n",
       "  </thead>\n",
       "  <tbody>\n",
       "    <tr>\n",
       "      <th>1571798</th>\n",
       "      <td>4</td>\n",
       "      <td>2.5</td>\n",
       "      <td>2987</td>\n",
       "      <td>885000</td>\n",
       "      <td>2006</td>\n",
       "      <td>13617.38</td>\n",
       "      <td>Orange</td>\n",
       "      <td>0.02</td>\n",
       "    </tr>\n",
       "    <tr>\n",
       "      <th>1723553</th>\n",
       "      <td>3</td>\n",
       "      <td>2.0</td>\n",
       "      <td>3013</td>\n",
       "      <td>489511</td>\n",
       "      <td>1977</td>\n",
       "      <td>5768.57</td>\n",
       "      <td>LA</td>\n",
       "      <td>0.01</td>\n",
       "    </tr>\n",
       "    <tr>\n",
       "      <th>718174</th>\n",
       "      <td>4</td>\n",
       "      <td>3.0</td>\n",
       "      <td>2572</td>\n",
       "      <td>390915</td>\n",
       "      <td>1986</td>\n",
       "      <td>4944.11</td>\n",
       "      <td>LA</td>\n",
       "      <td>0.01</td>\n",
       "    </tr>\n",
       "    <tr>\n",
       "      <th>1663205</th>\n",
       "      <td>3</td>\n",
       "      <td>1.0</td>\n",
       "      <td>1589</td>\n",
       "      <td>321758</td>\n",
       "      <td>1959</td>\n",
       "      <td>4031.78</td>\n",
       "      <td>LA</td>\n",
       "      <td>0.01</td>\n",
       "    </tr>\n",
       "    <tr>\n",
       "      <th>1087891</th>\n",
       "      <td>3</td>\n",
       "      <td>2.0</td>\n",
       "      <td>1727</td>\n",
       "      <td>231737</td>\n",
       "      <td>1962</td>\n",
       "      <td>2708.80</td>\n",
       "      <td>Ventura</td>\n",
       "      <td>0.01</td>\n",
       "    </tr>\n",
       "  </tbody>\n",
       "</table>\n",
       "</div>"
      ],
      "text/plain": [
       "         bedrooms  bathrooms  area  property_value  yearbuilt  taxamount  \\\n",
       "1571798         4        2.5  2987          885000       2006   13617.38   \n",
       "1723553         3        2.0  3013          489511       1977    5768.57   \n",
       "718174          4        3.0  2572          390915       1986    4944.11   \n",
       "1663205         3        1.0  1589          321758       1959    4031.78   \n",
       "1087891         3        2.0  1727          231737       1962    2708.80   \n",
       "\n",
       "          county  tax_rate  \n",
       "1571798   Orange      0.02  \n",
       "1723553       LA      0.01  \n",
       "718174        LA      0.01  \n",
       "1663205       LA      0.01  \n",
       "1087891  Ventura      0.01  "
      ]
     },
     "execution_count": 4,
     "metadata": {},
     "output_type": "execute_result"
    }
   ],
   "source": [
    "train.head()"
   ]
  },
  {
   "cell_type": "code",
   "execution_count": 5,
   "id": "69425da3-da65-48fa-a5de-d1f7dd316297",
   "metadata": {},
   "outputs": [
    {
     "data": {
      "text/html": [
       "<div>\n",
       "<style scoped>\n",
       "    .dataframe tbody tr th:only-of-type {\n",
       "        vertical-align: middle;\n",
       "    }\n",
       "\n",
       "    .dataframe tbody tr th {\n",
       "        vertical-align: top;\n",
       "    }\n",
       "\n",
       "    .dataframe thead th {\n",
       "        text-align: right;\n",
       "    }\n",
       "</style>\n",
       "<table border=\"1\" class=\"dataframe\">\n",
       "  <thead>\n",
       "    <tr style=\"text-align: right;\">\n",
       "      <th></th>\n",
       "      <th>bedrooms</th>\n",
       "      <th>bathrooms</th>\n",
       "      <th>area</th>\n",
       "      <th>property_value</th>\n",
       "      <th>yearbuilt</th>\n",
       "      <th>taxamount</th>\n",
       "      <th>county</th>\n",
       "      <th>tax_rate</th>\n",
       "    </tr>\n",
       "  </thead>\n",
       "  <tbody>\n",
       "    <tr>\n",
       "      <th>1571798</th>\n",
       "      <td>4</td>\n",
       "      <td>2.5</td>\n",
       "      <td>2987</td>\n",
       "      <td>885000</td>\n",
       "      <td>2006</td>\n",
       "      <td>13617.38</td>\n",
       "      <td>Orange</td>\n",
       "      <td>0.02</td>\n",
       "    </tr>\n",
       "    <tr>\n",
       "      <th>1723553</th>\n",
       "      <td>3</td>\n",
       "      <td>2.0</td>\n",
       "      <td>3013</td>\n",
       "      <td>489511</td>\n",
       "      <td>1977</td>\n",
       "      <td>5768.57</td>\n",
       "      <td>LA</td>\n",
       "      <td>0.01</td>\n",
       "    </tr>\n",
       "    <tr>\n",
       "      <th>718174</th>\n",
       "      <td>4</td>\n",
       "      <td>3.0</td>\n",
       "      <td>2572</td>\n",
       "      <td>390915</td>\n",
       "      <td>1986</td>\n",
       "      <td>4944.11</td>\n",
       "      <td>LA</td>\n",
       "      <td>0.01</td>\n",
       "    </tr>\n",
       "    <tr>\n",
       "      <th>1663205</th>\n",
       "      <td>3</td>\n",
       "      <td>1.0</td>\n",
       "      <td>1589</td>\n",
       "      <td>321758</td>\n",
       "      <td>1959</td>\n",
       "      <td>4031.78</td>\n",
       "      <td>LA</td>\n",
       "      <td>0.01</td>\n",
       "    </tr>\n",
       "    <tr>\n",
       "      <th>1087891</th>\n",
       "      <td>3</td>\n",
       "      <td>2.0</td>\n",
       "      <td>1727</td>\n",
       "      <td>231737</td>\n",
       "      <td>1962</td>\n",
       "      <td>2708.80</td>\n",
       "      <td>Ventura</td>\n",
       "      <td>0.01</td>\n",
       "    </tr>\n",
       "    <tr>\n",
       "      <th>...</th>\n",
       "      <td>...</td>\n",
       "      <td>...</td>\n",
       "      <td>...</td>\n",
       "      <td>...</td>\n",
       "      <td>...</td>\n",
       "      <td>...</td>\n",
       "      <td>...</td>\n",
       "      <td>...</td>\n",
       "    </tr>\n",
       "    <tr>\n",
       "      <th>531544</th>\n",
       "      <td>3</td>\n",
       "      <td>2.0</td>\n",
       "      <td>1610</td>\n",
       "      <td>226464</td>\n",
       "      <td>1984</td>\n",
       "      <td>3001.96</td>\n",
       "      <td>LA</td>\n",
       "      <td>0.01</td>\n",
       "    </tr>\n",
       "    <tr>\n",
       "      <th>424806</th>\n",
       "      <td>2</td>\n",
       "      <td>1.0</td>\n",
       "      <td>900</td>\n",
       "      <td>227271</td>\n",
       "      <td>1938</td>\n",
       "      <td>3323.92</td>\n",
       "      <td>LA</td>\n",
       "      <td>0.01</td>\n",
       "    </tr>\n",
       "    <tr>\n",
       "      <th>518081</th>\n",
       "      <td>3</td>\n",
       "      <td>3.0</td>\n",
       "      <td>1841</td>\n",
       "      <td>125533</td>\n",
       "      <td>1955</td>\n",
       "      <td>1731.15</td>\n",
       "      <td>LA</td>\n",
       "      <td>0.01</td>\n",
       "    </tr>\n",
       "    <tr>\n",
       "      <th>669341</th>\n",
       "      <td>3</td>\n",
       "      <td>2.0</td>\n",
       "      <td>1406</td>\n",
       "      <td>364412</td>\n",
       "      <td>1956</td>\n",
       "      <td>4559.86</td>\n",
       "      <td>LA</td>\n",
       "      <td>0.01</td>\n",
       "    </tr>\n",
       "    <tr>\n",
       "      <th>1587454</th>\n",
       "      <td>3</td>\n",
       "      <td>1.0</td>\n",
       "      <td>1571</td>\n",
       "      <td>207976</td>\n",
       "      <td>1948</td>\n",
       "      <td>2619.67</td>\n",
       "      <td>LA</td>\n",
       "      <td>0.01</td>\n",
       "    </tr>\n",
       "  </tbody>\n",
       "</table>\n",
       "<p>1219902 rows × 8 columns</p>\n",
       "</div>"
      ],
      "text/plain": [
       "         bedrooms  bathrooms  area  property_value  yearbuilt  taxamount  \\\n",
       "1571798         4        2.5  2987          885000       2006   13617.38   \n",
       "1723553         3        2.0  3013          489511       1977    5768.57   \n",
       "718174          4        3.0  2572          390915       1986    4944.11   \n",
       "1663205         3        1.0  1589          321758       1959    4031.78   \n",
       "1087891         3        2.0  1727          231737       1962    2708.80   \n",
       "...           ...        ...   ...             ...        ...        ...   \n",
       "531544          3        2.0  1610          226464       1984    3001.96   \n",
       "424806          2        1.0   900          227271       1938    3323.92   \n",
       "518081          3        3.0  1841          125533       1955    1731.15   \n",
       "669341          3        2.0  1406          364412       1956    4559.86   \n",
       "1587454         3        1.0  1571          207976       1948    2619.67   \n",
       "\n",
       "          county  tax_rate  \n",
       "1571798   Orange      0.02  \n",
       "1723553       LA      0.01  \n",
       "718174        LA      0.01  \n",
       "1663205       LA      0.01  \n",
       "1087891  Ventura      0.01  \n",
       "...          ...       ...  \n",
       "531544        LA      0.01  \n",
       "424806        LA      0.01  \n",
       "518081        LA      0.01  \n",
       "669341        LA      0.01  \n",
       "1587454       LA      0.01  \n",
       "\n",
       "[1219902 rows x 8 columns]"
      ]
     },
     "execution_count": 5,
     "metadata": {},
     "output_type": "execute_result"
    }
   ],
   "source": [
    "train"
   ]
  },
  {
   "cell_type": "markdown",
   "id": "3cf790bd-d222-4fa5-9ec6-779eb379741f",
   "metadata": {},
   "source": [
    "### 2. Fit a linear regression model (ordinary least squares) and compute yhat, predictions of taxvaluedollarcnt using only calculatedfinishedsqft.\n",
    "\n",
    "Here is some sample code to get you started:\n",
    "\n",
    "    from sklearn.linear_model import LinearRegression\n",
    "\n",
    "    # assuming X and y are already defined\n",
    "    model = LinearRegression().fit(X, y)\n",
    "    predictions = model.predict(X)\n",
    "\n",
    "Modify and add to the code above as necessary for it to work with the zillow dataset.\n",
    "\n"
   ]
  },
  {
   "cell_type": "code",
   "execution_count": 38,
   "id": "1c26ba92-868c-4035-a5a0-0890ebc32a38",
   "metadata": {},
   "outputs": [],
   "source": [
    "# Calculatedfinishedsqft = area and taxvaluedollarcnt = property_value\n",
    "\n",
    "# make it\n",
    "lr = LinearRegression()\n",
    "# fit it to training data\n",
    "model = lr.fit(train[['area']], train.property_value)\n",
    "# use it\n",
    "# we will use lm.predict to make predictions \n",
    "predict = lr.predict(train[['area']])"
   ]
  },
  {
   "cell_type": "code",
   "execution_count": 7,
   "id": "aec2b402-2070-4aaf-8ef3-f78057060a45",
   "metadata": {},
   "outputs": [],
   "source": [
    "#lets put the predictions in the train\n",
    "train['yhat'] = lr.predict(train[['area']])"
   ]
  },
  {
   "cell_type": "code",
   "execution_count": 8,
   "id": "53d18049-0249-4fec-8c2a-cdab0d40e6a7",
   "metadata": {},
   "outputs": [
    {
     "data": {
      "text/html": [
       "<div>\n",
       "<style scoped>\n",
       "    .dataframe tbody tr th:only-of-type {\n",
       "        vertical-align: middle;\n",
       "    }\n",
       "\n",
       "    .dataframe tbody tr th {\n",
       "        vertical-align: top;\n",
       "    }\n",
       "\n",
       "    .dataframe thead th {\n",
       "        text-align: right;\n",
       "    }\n",
       "</style>\n",
       "<table border=\"1\" class=\"dataframe\">\n",
       "  <thead>\n",
       "    <tr style=\"text-align: right;\">\n",
       "      <th></th>\n",
       "      <th>bedrooms</th>\n",
       "      <th>bathrooms</th>\n",
       "      <th>area</th>\n",
       "      <th>property_value</th>\n",
       "      <th>yearbuilt</th>\n",
       "      <th>taxamount</th>\n",
       "      <th>county</th>\n",
       "      <th>tax_rate</th>\n",
       "      <th>yhat</th>\n",
       "    </tr>\n",
       "  </thead>\n",
       "  <tbody>\n",
       "    <tr>\n",
       "      <th>1571798</th>\n",
       "      <td>4</td>\n",
       "      <td>2.5</td>\n",
       "      <td>2987</td>\n",
       "      <td>885000</td>\n",
       "      <td>2006</td>\n",
       "      <td>13617.38</td>\n",
       "      <td>Orange</td>\n",
       "      <td>0.02</td>\n",
       "      <td>580049.248064</td>\n",
       "    </tr>\n",
       "    <tr>\n",
       "      <th>1723553</th>\n",
       "      <td>3</td>\n",
       "      <td>2.0</td>\n",
       "      <td>3013</td>\n",
       "      <td>489511</td>\n",
       "      <td>1977</td>\n",
       "      <td>5768.57</td>\n",
       "      <td>LA</td>\n",
       "      <td>0.01</td>\n",
       "      <td>584607.353498</td>\n",
       "    </tr>\n",
       "    <tr>\n",
       "      <th>718174</th>\n",
       "      <td>4</td>\n",
       "      <td>3.0</td>\n",
       "      <td>2572</td>\n",
       "      <td>390915</td>\n",
       "      <td>1986</td>\n",
       "      <td>4944.11</td>\n",
       "      <td>LA</td>\n",
       "      <td>0.01</td>\n",
       "      <td>507294.872860</td>\n",
       "    </tr>\n",
       "    <tr>\n",
       "      <th>1663205</th>\n",
       "      <td>3</td>\n",
       "      <td>1.0</td>\n",
       "      <td>1589</td>\n",
       "      <td>321758</td>\n",
       "      <td>1959</td>\n",
       "      <td>4031.78</td>\n",
       "      <td>LA</td>\n",
       "      <td>0.01</td>\n",
       "      <td>334963.425088</td>\n",
       "    </tr>\n",
       "    <tr>\n",
       "      <th>1087891</th>\n",
       "      <td>3</td>\n",
       "      <td>2.0</td>\n",
       "      <td>1727</td>\n",
       "      <td>231737</td>\n",
       "      <td>1962</td>\n",
       "      <td>2708.80</td>\n",
       "      <td>Ventura</td>\n",
       "      <td>0.01</td>\n",
       "      <td>359156.446240</td>\n",
       "    </tr>\n",
       "    <tr>\n",
       "      <th>...</th>\n",
       "      <td>...</td>\n",
       "      <td>...</td>\n",
       "      <td>...</td>\n",
       "      <td>...</td>\n",
       "      <td>...</td>\n",
       "      <td>...</td>\n",
       "      <td>...</td>\n",
       "      <td>...</td>\n",
       "      <td>...</td>\n",
       "    </tr>\n",
       "    <tr>\n",
       "      <th>531544</th>\n",
       "      <td>3</td>\n",
       "      <td>2.0</td>\n",
       "      <td>1610</td>\n",
       "      <td>226464</td>\n",
       "      <td>1984</td>\n",
       "      <td>3001.96</td>\n",
       "      <td>LA</td>\n",
       "      <td>0.01</td>\n",
       "      <td>338644.971785</td>\n",
       "    </tr>\n",
       "    <tr>\n",
       "      <th>424806</th>\n",
       "      <td>2</td>\n",
       "      <td>1.0</td>\n",
       "      <td>900</td>\n",
       "      <td>227271</td>\n",
       "      <td>1938</td>\n",
       "      <td>3323.92</td>\n",
       "      <td>LA</td>\n",
       "      <td>0.01</td>\n",
       "      <td>214173.631075</td>\n",
       "    </tr>\n",
       "    <tr>\n",
       "      <th>518081</th>\n",
       "      <td>3</td>\n",
       "      <td>3.0</td>\n",
       "      <td>1841</td>\n",
       "      <td>125533</td>\n",
       "      <td>1955</td>\n",
       "      <td>1731.15</td>\n",
       "      <td>LA</td>\n",
       "      <td>0.01</td>\n",
       "      <td>379141.985453</td>\n",
       "    </tr>\n",
       "    <tr>\n",
       "      <th>669341</th>\n",
       "      <td>3</td>\n",
       "      <td>2.0</td>\n",
       "      <td>1406</td>\n",
       "      <td>364412</td>\n",
       "      <td>1956</td>\n",
       "      <td>4559.86</td>\n",
       "      <td>LA</td>\n",
       "      <td>0.01</td>\n",
       "      <td>302881.375299</td>\n",
       "    </tr>\n",
       "    <tr>\n",
       "      <th>1587454</th>\n",
       "      <td>3</td>\n",
       "      <td>1.0</td>\n",
       "      <td>1571</td>\n",
       "      <td>207976</td>\n",
       "      <td>1948</td>\n",
       "      <td>2619.67</td>\n",
       "      <td>LA</td>\n",
       "      <td>0.01</td>\n",
       "      <td>331807.813633</td>\n",
       "    </tr>\n",
       "  </tbody>\n",
       "</table>\n",
       "<p>1219902 rows × 9 columns</p>\n",
       "</div>"
      ],
      "text/plain": [
       "         bedrooms  bathrooms  area  property_value  yearbuilt  taxamount  \\\n",
       "1571798         4        2.5  2987          885000       2006   13617.38   \n",
       "1723553         3        2.0  3013          489511       1977    5768.57   \n",
       "718174          4        3.0  2572          390915       1986    4944.11   \n",
       "1663205         3        1.0  1589          321758       1959    4031.78   \n",
       "1087891         3        2.0  1727          231737       1962    2708.80   \n",
       "...           ...        ...   ...             ...        ...        ...   \n",
       "531544          3        2.0  1610          226464       1984    3001.96   \n",
       "424806          2        1.0   900          227271       1938    3323.92   \n",
       "518081          3        3.0  1841          125533       1955    1731.15   \n",
       "669341          3        2.0  1406          364412       1956    4559.86   \n",
       "1587454         3        1.0  1571          207976       1948    2619.67   \n",
       "\n",
       "          county  tax_rate           yhat  \n",
       "1571798   Orange      0.02  580049.248064  \n",
       "1723553       LA      0.01  584607.353498  \n",
       "718174        LA      0.01  507294.872860  \n",
       "1663205       LA      0.01  334963.425088  \n",
       "1087891  Ventura      0.01  359156.446240  \n",
       "...          ...       ...            ...  \n",
       "531544        LA      0.01  338644.971785  \n",
       "424806        LA      0.01  214173.631075  \n",
       "518081        LA      0.01  379141.985453  \n",
       "669341        LA      0.01  302881.375299  \n",
       "1587454       LA      0.01  331807.813633  \n",
       "\n",
       "[1219902 rows x 9 columns]"
      ]
     },
     "execution_count": 8,
     "metadata": {},
     "output_type": "execute_result"
    }
   ],
   "source": [
    "train"
   ]
  },
  {
   "cell_type": "markdown",
   "id": "b7f25b36-b9a7-4424-abda-fa84be5db5aa",
   "metadata": {},
   "source": [
    "### 3. Plot the residuals for the linear regression model that you made."
   ]
  },
  {
   "cell_type": "code",
   "execution_count": null,
   "id": "fc4f8377-732e-44ba-9c3c-eff0fde970ed",
   "metadata": {},
   "outputs": [],
   "source": [
    "# residual = actual - predicted\n",
    "train['residuals'] = train.property_value - train.yhat"
   ]
  },
  {
   "cell_type": "code",
   "execution_count": 44,
   "id": "05033cf8-2226-44e1-ba2f-c426c660605b",
   "metadata": {},
   "outputs": [
    {
     "data": {
      "image/png": "[encoded data removed]",
      "text/plain": [
       "<Figure size 640x480 with 1 Axes>"
      ]
     },
     "metadata": {},
     "output_type": "display_data"
    }
   ],
   "source": [
    "sns.scatterplot(data=train, x='property_value', y='residuals')\n",
    "plt.xlabel('x = Property Value')\n",
    "plt.ylabel('y = Residuals')\n",
    "plt.show()"
   ]
  },
  {
   "cell_type": "code",
   "execution_count": 45,
   "id": "a6d8d316-f423-4958-9140-f1d29d1f4e76",
   "metadata": {},
   "outputs": [],
   "source": [
    "# # plot data with baseline\n",
    "# plt.scatter(train.area, train.property_value)\n",
    "# plt.axhline(baseline, ls=':')\n",
    "\n",
    "# plt.xlabel('x = Area')\n",
    "# plt.ylabel('y = Property Value')\n",
    "# plt.show()"
   ]
  },
  {
   "cell_type": "code",
   "execution_count": 46,
   "id": "f5afd6f9-efe3-45ec-9332-11d25e78b850",
   "metadata": {},
   "outputs": [],
   "source": [
    "# #scatter is my actuals\n",
    "# plt.scatter(train.area, train.property_value)\n",
    "\n",
    "# #lineplot is my regression line\n",
    "# plt.plot(train.area, train.yhat, color='orange')\n",
    "# plt.axhline(baseline, ls=':', color='red')\n",
    "\n",
    "# plt.xlabel('x = Area')\n",
    "# plt.ylabel('y = Tax Value')\n",
    "# plt.title('OLS linear model')\n",
    "# plt.ylim(0, 1_250_000)\n",
    "# plt.show()"
   ]
  },
  {
   "cell_type": "markdown",
   "id": "a656d4ad-d05e-4b6d-9eab-dddc1ab639c0",
   "metadata": {},
   "source": [
    "### 4. Calculate the sum of squared errors, explained sum of squares, total sum of squares, mean squared error, and root mean squared error for your model."
   ]
  },
  {
   "cell_type": "code",
   "execution_count": 9,
   "id": "a98abb7a-fe08-43c3-bb66-0d040ecf3f4e",
   "metadata": {},
   "outputs": [
    {
     "data": {
      "text/plain": [
       "363532.06723244983"
      ]
     },
     "execution_count": 9,
     "metadata": {},
     "output_type": "execute_result"
    }
   ],
   "source": [
    "#calculate mean\n",
    "baseline = train.property_value.mean()\n",
    "baseline"
   ]
  },
  {
   "cell_type": "code",
   "execution_count": 10,
   "id": "1416d378-f361-4fd8-9756-d0b5818d1da7",
   "metadata": {},
   "outputs": [],
   "source": [
    "#add it to the df\n",
    "train['baseline'] = baseline"
   ]
  },
  {
   "cell_type": "code",
   "execution_count": 11,
   "id": "a043fa17-79fe-4ec1-9d2c-39b802c55d55",
   "metadata": {},
   "outputs": [],
   "source": [
    "# residual = actual - predicted\n",
    "train['baseline_residual'] = train.property_value - train.baseline\n",
    "\n",
    "# residual = actual - predicted\n",
    "train['residuals'] = train.property_value - train.yhat\n",
    "\n",
    "#baseline residual sum\n",
    "train.baseline_residual.sum().round(2)\n",
    "\n",
    "#osl residual sum\n",
    "train.residuals.sum().round(2)\n",
    "\n",
    "# the difference between yhat and taxvalue, just squared\n",
    "train['baseline_residual_2'] = train.baseline_residual ** 2\n",
    "train['residual_2'] = train.residuals **2"
   ]
  },
  {
   "cell_type": "code",
   "execution_count": 15,
   "id": "8b4db547-b3d1-4e48-b220-1a9b54d184ef",
   "metadata": {},
   "outputs": [],
   "source": [
    "#add the residuals together to calculate the Sum of Squared Errors. \n",
    "SSE = train.residual_2.sum()\n",
    "\n",
    "# The TSS is the same as SSE_baseline\n",
    "TSS = train.baseline_residual_2.sum()\n",
    "\n",
    "#calcaluate ESS\n",
    "ESS = TSS-SSE\n",
    "\n",
    "#calcaluate MSE\n",
    "MSE = SSE/len(train)\n",
    "\n",
    "#calculate RMSE\n",
    "RMSE = MSE ** .5"
   ]
  },
  {
   "cell_type": "code",
   "execution_count": 16,
   "id": "ade9d0b4-d0dd-408b-a8e4-d160013473f8",
   "metadata": {},
   "outputs": [
    {
     "name": "stdout",
     "output_type": "stream",
     "text": [
      "SSE = 52446247997834368.0\n",
      "\n",
      "ESS = 19763181828771520.0\n",
      "\n",
      "TSS = 72209429826605888.0\n",
      "\n",
      "MSE = 42992181337.4\n",
      "\n",
      "RMSE = 207345.6\n"
     ]
    }
   ],
   "source": [
    "print('SSE =', \"{:.1f}\".format(SSE))\n",
    "print(f'\\nESS = {ESS:.1f}')\n",
    "print(f'\\nTSS = {TSS:.1f}')\n",
    "print(f'\\nMSE = {MSE:.1f}')\n",
    "print(f'\\nRMSE = {RMSE:.1f}')"
   ]
  },
  {
   "cell_type": "markdown",
   "id": "a39ce028-268c-4fe1-b9e8-451010d92294",
   "metadata": {},
   "source": [
    "### 5. Calculate the sum of squared errors, mean squared error, and root mean squared error for the baseline model (i.e. a model that always predicts the average taxvaluedollarcnt amount)."
   ]
  },
  {
   "cell_type": "code",
   "execution_count": 17,
   "id": "572d482d-0397-4156-b797-8f38a317cb40",
   "metadata": {},
   "outputs": [],
   "source": [
    "#add the residuals together to calculate the Sum of Squared Errors. \n",
    "SSE_baseline = train.baseline_residual_2.sum()\n",
    "\n",
    "#calcaluate MSE\n",
    "MSE_baseline = SSE_baseline/len(train)\n",
    "\n",
    "#calculate RMSE\n",
    "RMSE_baseline = MSE_baseline ** .5"
   ]
  },
  {
   "cell_type": "code",
   "execution_count": 18,
   "id": "7efbe7fa-e600-42ca-8546-bba84ea562c8",
   "metadata": {},
   "outputs": [
    {
     "name": "stdout",
     "output_type": "stream",
     "text": [
      "SSE_baseline = 72209429826605888.0\n",
      "\n",
      "MSE_baseline = 59192812067.4\n",
      "\n",
      "RMSE baseline =  243295.7\n"
     ]
    }
   ],
   "source": [
    "print(\"SSE_baseline =\", \"{:.1f}\".format(SSE_baseline))\n",
    "\n",
    "print(\"\\nMSE_baseline =\", \"{:.1f}\".format(MSE_baseline))\n",
    "\n",
    "print(\"\\nRMSE baseline = \", \"{:.1f}\".format(RMSE_baseline))"
   ]
  },
  {
   "cell_type": "markdown",
   "id": "c72b2498-b814-4d24-916b-c890ff5ddf15",
   "metadata": {},
   "source": [
    "### 6. Write python code that compares the sum of squared errors for your model against the sum of squared errors for the baseline model and outputs whether or not your model performs better than the baseline model."
   ]
  },
  {
   "cell_type": "code",
   "execution_count": 19,
   "id": "b9dd9dca-9591-4bdf-95f2-69ce372f18a1",
   "metadata": {},
   "outputs": [
    {
     "name": "stdout",
     "output_type": "stream",
     "text": [
      "SSE_baseline: 72209429826605888.00\n",
      "SSE: 52446247997834368.00\n"
     ]
    }
   ],
   "source": [
    "# Print the SSE for baseline and the model\n",
    "print(f\"SSE_baseline: {SSE_baseline:.2f}\")\n",
    "print(f\"SSE: {SSE:.2f}\")"
   ]
  },
  {
   "cell_type": "code",
   "execution_count": 20,
   "id": "480dd8f3-ca29-448a-86b6-4ee7ce198e99",
   "metadata": {},
   "outputs": [
    {
     "name": "stdout",
     "output_type": "stream",
     "text": [
      "The model performs better than the baseline model.\n"
     ]
    }
   ],
   "source": [
    "# Check if the model has lower SSE than baseline\n",
    "if SSE < SSE_baseline:\n",
    "    print(\"The model performs better than the baseline model.\")\n",
    "else:\n",
    "    print(\"The model does not perform better than the baseline model.\")"
   ]
  },
  {
   "cell_type": "markdown",
   "id": "c126eeda-0b24-4d88-a492-073490e3456a",
   "metadata": {},
   "source": [
    "### 7. What is the amount of variance explained in your model?"
   ]
  },
  {
   "cell_type": "code",
   "execution_count": 21,
   "id": "896852ac-11f0-4723-bcaa-0a2dd0b05157",
   "metadata": {},
   "outputs": [
    {
     "data": {
      "text/plain": [
       "0.27369253401153"
      ]
     },
     "execution_count": 21,
     "metadata": {},
     "output_type": "execute_result"
    }
   ],
   "source": [
    "# Calculate R_2\n",
    "R_2 = ESS/TSS\n",
    "R_2"
   ]
  },
  {
   "cell_type": "markdown",
   "id": "a032f590-88c0-4a49-b38e-a94fe420bb59",
   "metadata": {},
   "source": [
    "### 8. Is your model better than the baseline model?"
   ]
  },
  {
   "cell_type": "markdown",
   "id": "9909b674-1014-4408-9b85-32a13a711059",
   "metadata": {},
   "source": [
    ">- In the model perform better than baseline but however, in the overall the model is not a great model as R_2 is too far from 1."
   ]
  },
  {
   "cell_type": "markdown",
   "id": "e11db871-bee1-48ca-9998-6393a2df5a82",
   "metadata": {},
   "source": [
    "### 9. Create a file named evaluate.py that contains the following functions.\n",
    "\n",
    "- plot_residuals(y, yhat): creates a residual plot\n",
    "- regression_errors(y, yhat): returns the following values:\n",
    "    - sum of squared errors (SSE)\n",
    "    - explained sum of squares (ESS)\n",
    "    - total sum of squares (TSS)\n",
    "    - mean squared error (MSE)\n",
    "    - root mean squared error (RMSE)\n",
    "- baseline_mean_errors(y): computes the SSE, MSE, and RMSE for the baseline model\n",
    "- better_than_baseline(y, yhat): returns true if your model performs better than the baseline, otherwise false"
   ]
  },
  {
   "cell_type": "code",
   "execution_count": 22,
   "id": "98ae785c-d1c0-4bf6-b288-d42ac0129923",
   "metadata": {},
   "outputs": [
    {
     "data": {
      "text/html": [
       "<div>\n",
       "<style scoped>\n",
       "    .dataframe tbody tr th:only-of-type {\n",
       "        vertical-align: middle;\n",
       "    }\n",
       "\n",
       "    .dataframe tbody tr th {\n",
       "        vertical-align: top;\n",
       "    }\n",
       "\n",
       "    .dataframe thead th {\n",
       "        text-align: right;\n",
       "    }\n",
       "</style>\n",
       "<table border=\"1\" class=\"dataframe\">\n",
       "  <thead>\n",
       "    <tr style=\"text-align: right;\">\n",
       "      <th></th>\n",
       "      <th>bedrooms</th>\n",
       "      <th>bathrooms</th>\n",
       "      <th>area</th>\n",
       "      <th>property_value</th>\n",
       "      <th>yearbuilt</th>\n",
       "      <th>taxamount</th>\n",
       "      <th>county</th>\n",
       "      <th>tax_rate</th>\n",
       "      <th>yhat</th>\n",
       "      <th>baseline</th>\n",
       "      <th>baseline_residual</th>\n",
       "      <th>residuals</th>\n",
       "      <th>baseline_residual_2</th>\n",
       "      <th>residual_2</th>\n",
       "    </tr>\n",
       "  </thead>\n",
       "  <tbody>\n",
       "    <tr>\n",
       "      <th>1571798</th>\n",
       "      <td>4</td>\n",
       "      <td>2.5</td>\n",
       "      <td>2987</td>\n",
       "      <td>885000</td>\n",
       "      <td>2006</td>\n",
       "      <td>13617.38</td>\n",
       "      <td>Orange</td>\n",
       "      <td>0.02</td>\n",
       "      <td>580049.248064</td>\n",
       "      <td>363532.067232</td>\n",
       "      <td>521467.932768</td>\n",
       "      <td>304950.751936</td>\n",
       "      <td>2.719288e+11</td>\n",
       "      <td>9.299496e+10</td>\n",
       "    </tr>\n",
       "    <tr>\n",
       "      <th>1723553</th>\n",
       "      <td>3</td>\n",
       "      <td>2.0</td>\n",
       "      <td>3013</td>\n",
       "      <td>489511</td>\n",
       "      <td>1977</td>\n",
       "      <td>5768.57</td>\n",
       "      <td>LA</td>\n",
       "      <td>0.01</td>\n",
       "      <td>584607.353498</td>\n",
       "      <td>363532.067232</td>\n",
       "      <td>125978.932768</td>\n",
       "      <td>-95096.353498</td>\n",
       "      <td>1.587069e+10</td>\n",
       "      <td>9.043316e+09</td>\n",
       "    </tr>\n",
       "    <tr>\n",
       "      <th>718174</th>\n",
       "      <td>4</td>\n",
       "      <td>3.0</td>\n",
       "      <td>2572</td>\n",
       "      <td>390915</td>\n",
       "      <td>1986</td>\n",
       "      <td>4944.11</td>\n",
       "      <td>LA</td>\n",
       "      <td>0.01</td>\n",
       "      <td>507294.872860</td>\n",
       "      <td>363532.067232</td>\n",
       "      <td>27382.932768</td>\n",
       "      <td>-116379.872860</td>\n",
       "      <td>7.498250e+08</td>\n",
       "      <td>1.354427e+10</td>\n",
       "    </tr>\n",
       "    <tr>\n",
       "      <th>1663205</th>\n",
       "      <td>3</td>\n",
       "      <td>1.0</td>\n",
       "      <td>1589</td>\n",
       "      <td>321758</td>\n",
       "      <td>1959</td>\n",
       "      <td>4031.78</td>\n",
       "      <td>LA</td>\n",
       "      <td>0.01</td>\n",
       "      <td>334963.425088</td>\n",
       "      <td>363532.067232</td>\n",
       "      <td>-41774.067232</td>\n",
       "      <td>-13205.425088</td>\n",
       "      <td>1.745073e+09</td>\n",
       "      <td>1.743833e+08</td>\n",
       "    </tr>\n",
       "    <tr>\n",
       "      <th>1087891</th>\n",
       "      <td>3</td>\n",
       "      <td>2.0</td>\n",
       "      <td>1727</td>\n",
       "      <td>231737</td>\n",
       "      <td>1962</td>\n",
       "      <td>2708.80</td>\n",
       "      <td>Ventura</td>\n",
       "      <td>0.01</td>\n",
       "      <td>359156.446240</td>\n",
       "      <td>363532.067232</td>\n",
       "      <td>-131795.067232</td>\n",
       "      <td>-127419.446240</td>\n",
       "      <td>1.736994e+10</td>\n",
       "      <td>1.623572e+10</td>\n",
       "    </tr>\n",
       "  </tbody>\n",
       "</table>\n",
       "</div>"
      ],
      "text/plain": [
       "         bedrooms  bathrooms  area  property_value  yearbuilt  taxamount  \\\n",
       "1571798         4        2.5  2987          885000       2006   13617.38   \n",
       "1723553         3        2.0  3013          489511       1977    5768.57   \n",
       "718174          4        3.0  2572          390915       1986    4944.11   \n",
       "1663205         3        1.0  1589          321758       1959    4031.78   \n",
       "1087891         3        2.0  1727          231737       1962    2708.80   \n",
       "\n",
       "          county  tax_rate           yhat       baseline  baseline_residual  \\\n",
       "1571798   Orange      0.02  580049.248064  363532.067232      521467.932768   \n",
       "1723553       LA      0.01  584607.353498  363532.067232      125978.932768   \n",
       "718174        LA      0.01  507294.872860  363532.067232       27382.932768   \n",
       "1663205       LA      0.01  334963.425088  363532.067232      -41774.067232   \n",
       "1087891  Ventura      0.01  359156.446240  363532.067232     -131795.067232   \n",
       "\n",
       "             residuals  baseline_residual_2    residual_2  \n",
       "1571798  304950.751936         2.719288e+11  9.299496e+10  \n",
       "1723553  -95096.353498         1.587069e+10  9.043316e+09  \n",
       "718174  -116379.872860         7.498250e+08  1.354427e+10  \n",
       "1663205  -13205.425088         1.745073e+09  1.743833e+08  \n",
       "1087891 -127419.446240         1.736994e+10  1.623572e+10  "
      ]
     },
     "execution_count": 22,
     "metadata": {},
     "output_type": "execute_result"
    }
   ],
   "source": [
    "train.head()"
   ]
  },
  {
   "cell_type": "code",
   "execution_count": 48,
   "id": "51fadb3c-951b-4ec3-9e28-91846fcf424a",
   "metadata": {},
   "outputs": [],
   "source": [
    "# create a linear regression object\n",
    "lr = LinearRegression()\n",
    "\n",
    "# fit the model to training data\n",
    "lr.fit(train[['area']], train.property_value)\n",
    "\n",
    "# make predictions\n",
    "yhat = lr.predict(train[['area']])"
   ]
  },
  {
   "cell_type": "code",
   "execution_count": 51,
   "id": "8808d5d9-8358-4798-be13-99e56e903bd4",
   "metadata": {},
   "outputs": [],
   "source": [
    "train['baseline'] = train.property_value.mean()"
   ]
  },
  {
   "cell_type": "code",
   "execution_count": 47,
   "id": "3f81ef61-5f65-4178-9d58-d88939167232",
   "metadata": {},
   "outputs": [],
   "source": [
    "def plot_residuals(y, yhat):\n",
    "    # residual = actual - predicted\n",
    "    residuals = y - yhat\n",
    "    \n",
    "    # plot a scatterplot graph\n",
    "    sns.scatterplot(x=y, y=residuals)\n",
    "    plt.xlabel('Property Values')\n",
    "    plt.ylabel('Residuals')\n",
    "    plt.title('Residual Plot')\n",
    "    plt.axhline(y=0, color='r', linestyle='-')\n",
    "    \n",
    "    return plt.show()"
   ]
  },
  {
   "cell_type": "code",
   "execution_count": 32,
   "id": "d1924a63-fa48-4898-b739-41e6336cb208",
   "metadata": {},
   "outputs": [],
   "source": [
    "def regression_errors(y, yhat):    \n",
    "    ## Sum of Squared Errors\n",
    "    SSE = MSE * len(train)\n",
    "\n",
    "    # Total sum of squares\n",
    "    # TSS = ESS + SSE\n",
    "    TSS = ESS + SSE\n",
    "\n",
    "    # Explained sum of squares\n",
    "    # Sum the squares of the (prediction - mean of tax value)\n",
    "    ESS = ((yhat - train.tax_value.mean())**2).sum()\n",
    "\n",
    "    # Mean squared error\n",
    "    MSE = mean_squared_error(train.tax_value, yhat)\n",
    "\n",
    "    # Root mean squared error\n",
    "    # Raising to the power of 1/2 (0.5) is the same as taking the square root\n",
    "    RMSE = MSE ** .5\n",
    "    \n",
    "    return SSE, ESS, TSS, MSE, RMSE"
   ]
  },
  {
   "cell_type": "code",
   "execution_count": 27,
   "id": "5d3306fa-d007-41a0-b723-1d1dec502ffd",
   "metadata": {},
   "outputs": [],
   "source": [
    "def baseline_mean_errors(y):\n",
    "    # Use the MSE to find the SSE\n",
    "    SSE_baseline = MSE_baseline * len(train)\n",
    "\n",
    "    # Compute the mean squared error for the baseline\n",
    "    MSE_baseline = mean_squared_error(train.tax_value, train.baseline)\n",
    "\n",
    "    #calculate RMSE\n",
    "    RMSE_baseline = MSE_baseline ** .5\n",
    "    \n",
    "    return SSE_baseline, MSE_baseline, RMSE_baseline"
   ]
  },
  {
   "cell_type": "code",
   "execution_count": 61,
   "id": "80cc4bde-7c8b-4ac4-afa1-6b0a511b9c4d",
   "metadata": {},
   "outputs": [],
   "source": [
    "def better_than_baseline(y, yhat):\n",
    "    # Calculate baseline residuals and SSE\n",
    "    baseline_residual = y - y.mean()\n",
    "    SSE_baseline = (baseline_residual ** 2).sum()\n",
    "\n",
    "    # Calculate SSE for the given model\n",
    "    SSE = ((y - yhat) ** 2).sum()\n",
    "    \n",
    "    # Check if the model has lower SSE than baseline\n",
    "    if SSE < SSE_baseline:\n",
    "        print(\"The model performs better than the baseline model.\")\n",
    "    else:\n",
    "        print(\"The model does not perform better than the baseline model.\")\n"
   ]
  },
  {
   "cell_type": "code",
   "execution_count": 62,
   "id": "d8ce3322-7c74-49e3-be46-ff452d7f61ce",
   "metadata": {},
   "outputs": [
    {
     "name": "stdout",
     "output_type": "stream",
     "text": [
      "7.220942982660589e+16\n",
      "5.244624799783437e+16\n"
     ]
    },
    {
     "data": {
      "text/plain": [
       "True"
      ]
     },
     "execution_count": 62,
     "metadata": {},
     "output_type": "execute_result"
    }
   ],
   "source": [
    "better_than_baseline(train.property_value, yhat)"
   ]
  },
  {
   "cell_type": "code",
   "execution_count": 33,
   "id": "3037f9b4-7c6e-4f17-a27c-6cc8bfc8b6fb",
   "metadata": {},
   "outputs": [
    {
     "data": {
      "text/plain": [
       "(5.244624799783437e+16,\n",
       " 1.976318182877152e+16,\n",
       " 7.220942982660589e+16,\n",
       " 42992181337.3815,\n",
       " 207345.56020658242)"
      ]
     },
     "execution_count": 33,
     "metadata": {},
     "output_type": "execute_result"
    }
   ],
   "source": [
    "regression_errors(train)"
   ]
  },
  {
   "cell_type": "code",
   "execution_count": 34,
   "id": "a1646536-68d9-41c9-8465-bff1d677e61b",
   "metadata": {},
   "outputs": [
    {
     "data": {
      "text/plain": [
       "(7.220942982660589e+16, 59192812067.367615, 243295.7296529629)"
      ]
     },
     "execution_count": 34,
     "metadata": {},
     "output_type": "execute_result"
    }
   ],
   "source": [
    "baseline_mean_errors(train)"
   ]
  },
  {
   "cell_type": "code",
   "execution_count": 35,
   "id": "540b41d4-308a-4880-9f09-7ffa0b847a48",
   "metadata": {},
   "outputs": [
    {
     "name": "stdout",
     "output_type": "stream",
     "text": [
      "The model does not perform better than the baseline model.\n"
     ]
    }
   ],
   "source": [
    "better_than_baseline(SSE, SSE_baseline)"
   ]
  },
  {
   "cell_type": "code",
   "execution_count": null,
   "id": "35c948cf-1b8c-4e6a-8d5b-bd63f9dbb95f",
   "metadata": {},
   "outputs": [],
   "source": [
    "# Calculate the r2 using the r2_score\n",
    "r2_score(train.property_value, yhat)\n",
    " and R_2 > .5"
   ]
  },
  {
   "cell_type": "code",
   "execution_count": null,
   "id": "34c262df-0b07-4112-ba31-44abcb22b5ec",
   "metadata": {},
   "outputs": [],
   "source": []
  },
  {
   "cell_type": "code",
   "execution_count": null,
   "id": "1525bfbb-e776-49a9-9fd7-0e811973467f",
   "metadata": {},
   "outputs": [],
   "source": [
    "# make it\n",
    "lr = LinearRegression()\n",
    "# fit it to training data\n",
    "model = lr.fit(train[['area']], train.property_value)\n",
    "# use it\n",
    "# we will use lm.predict to make predictions \n",
    "predict = lr.predict(train[['area']])\n",
    "\n",
    "yhat = predict"
   ]
  }
 ],
 "metadata": {
  "kernelspec": {
   "display_name": "Python 3 (ipykernel)",
   "language": "python",
   "name": "python3"
  },
  "language_info": {
   "codemirror_mode": {
    "name": "ipython",
    "version": 3
   },
   "file_extension": ".py",
   "mimetype": "text/x-python",
   "name": "python",
   "nbconvert_exporter": "python",
   "pygments_lexer": "ipython3",
   "version": "3.9.13"
  }
 },
 "nbformat": 4,
 "nbformat_minor": 5
}
