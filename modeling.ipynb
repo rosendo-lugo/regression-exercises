{
 "cells": [
  {
   "cell_type": "markdown",
   "id": "0063fb82-0bb7-4df6-9520-e35b8d95bacc",
   "metadata": {},
   "source": [
    "# Modeling"
   ]
  },
  {
   "cell_type": "markdown",
   "id": "b3a5458f-9650-47b7-83f3-1c726a4a2a03",
   "metadata": {},
   "source": [
    "## Exercises\n",
    "\n",
    "Do your work for this exercise in a jupyter notebook named modeling within the regression-exercises repo. Add, commit, and push your work."
   ]
  },
  {
   "cell_type": "markdown",
   "id": "7043a02b-f8c5-4e96-9f8d-d240debc2a77",
   "metadata": {},
   "source": [
    "## Imports"
   ]
  },
  {
   "cell_type": "code",
   "execution_count": 1,
   "id": "cc0970bd-f7b2-43c6-8147-eacc39316eb3",
   "metadata": {},
   "outputs": [],
   "source": [
    "# Standard imports\n",
    "import numpy as np\n",
    "import pandas as pd\n",
    "\n",
    "# My imports\n",
    "import wrangle as w\n",
    "import explore as e\n",
    "\n",
    "from pydataset import data\n",
    "\n",
    "import matplotlib.pyplot as plt\n",
    "import seaborn as sns\n",
    "\n",
    "# Stats\n",
    "from sklearn.model_selection import train_test_split\n",
    "from sklearn.linear_model import LinearRegression\n",
    "from sklearn.metrics import mean_squared_error\n",
    "from sklearn.metrics import r2_score\n",
    "from sklearn.linear_model import LassoLars\n",
    "from sklearn.preprocessing import PolynomialFeatures\n",
    "from sklearn.linear_model import TweedieRegressor\n",
    "from sklearn.feature_selection import SelectKBest, RFE, f_regression, SequentialFeatureSelector\n",
    "\n",
    "# Ignore warnings\n",
    "import warnings\n",
    "warnings.filterwarnings('ignore')"
   ]
  },
  {
   "cell_type": "markdown",
   "id": "35822caf-9007-4c89-9b99-27dcb3aa0afe",
   "metadata": {},
   "source": [
    "### 1. Select a dataset with a continuous target variable."
   ]
  },
  {
   "cell_type": "code",
   "execution_count": 2,
   "id": "ecddddb3-e4d0-44a0-a66f-4f2de4b5f19b",
   "metadata": {},
   "outputs": [
    {
     "name": "stdout",
     "output_type": "stream",
     "text": [
      "csv file found and loaded\n"
     ]
    }
   ],
   "source": [
    "df, prep_df = w.get_zillow_data()"
   ]
  },
  {
   "cell_type": "markdown",
   "id": "d4ddf761-858b-4e24-a353-845d53fb6b0c",
   "metadata": {},
   "source": [
    "### 3. Be sure your data is prepared (no missing values, numeric datatypes) and split into samples."
   ]
  },
  {
   "cell_type": "code",
   "execution_count": 3,
   "id": "7217a38f-7ee5-475c-9847-9ed5bae26704",
   "metadata": {},
   "outputs": [
    {
     "data": {
      "text/html": [
       "<div>\n",
       "<style scoped>\n",
       "    .dataframe tbody tr th:only-of-type {\n",
       "        vertical-align: middle;\n",
       "    }\n",
       "\n",
       "    .dataframe tbody tr th {\n",
       "        vertical-align: top;\n",
       "    }\n",
       "\n",
       "    .dataframe thead th {\n",
       "        text-align: right;\n",
       "    }\n",
       "</style>\n",
       "<table border=\"1\" class=\"dataframe\">\n",
       "  <thead>\n",
       "    <tr style=\"text-align: right;\">\n",
       "      <th></th>\n",
       "      <th>bedrooms</th>\n",
       "      <th>bathrooms</th>\n",
       "      <th>area</th>\n",
       "      <th>property_value</th>\n",
       "      <th>yearbuilt</th>\n",
       "      <th>taxamount</th>\n",
       "      <th>county</th>\n",
       "    </tr>\n",
       "  </thead>\n",
       "  <tbody>\n",
       "    <tr>\n",
       "      <th>4</th>\n",
       "      <td>4.0</td>\n",
       "      <td>2.0</td>\n",
       "      <td>3633</td>\n",
       "      <td>296425.0</td>\n",
       "      <td>2005</td>\n",
       "      <td>6941.39</td>\n",
       "      <td>LA</td>\n",
       "    </tr>\n",
       "    <tr>\n",
       "      <th>6</th>\n",
       "      <td>3.0</td>\n",
       "      <td>4.0</td>\n",
       "      <td>1620</td>\n",
       "      <td>847770.0</td>\n",
       "      <td>2011</td>\n",
       "      <td>10244.94</td>\n",
       "      <td>LA</td>\n",
       "    </tr>\n",
       "    <tr>\n",
       "      <th>7</th>\n",
       "      <td>3.0</td>\n",
       "      <td>2.0</td>\n",
       "      <td>2077</td>\n",
       "      <td>646760.0</td>\n",
       "      <td>1926</td>\n",
       "      <td>7924.68</td>\n",
       "      <td>LA</td>\n",
       "    </tr>\n",
       "    <tr>\n",
       "      <th>11</th>\n",
       "      <td>0.0</td>\n",
       "      <td>0.0</td>\n",
       "      <td>1200</td>\n",
       "      <td>5328.0</td>\n",
       "      <td>1972</td>\n",
       "      <td>91.60</td>\n",
       "      <td>LA</td>\n",
       "    </tr>\n",
       "    <tr>\n",
       "      <th>14</th>\n",
       "      <td>0.0</td>\n",
       "      <td>0.0</td>\n",
       "      <td>171</td>\n",
       "      <td>6920.0</td>\n",
       "      <td>1973</td>\n",
       "      <td>255.17</td>\n",
       "      <td>LA</td>\n",
       "    </tr>\n",
       "    <tr>\n",
       "      <th>...</th>\n",
       "      <td>...</td>\n",
       "      <td>...</td>\n",
       "      <td>...</td>\n",
       "      <td>...</td>\n",
       "      <td>...</td>\n",
       "      <td>...</td>\n",
       "      <td>...</td>\n",
       "    </tr>\n",
       "    <tr>\n",
       "      <th>2152856</th>\n",
       "      <td>4.0</td>\n",
       "      <td>4.0</td>\n",
       "      <td>4375</td>\n",
       "      <td>422400.0</td>\n",
       "      <td>2015</td>\n",
       "      <td>13877.56</td>\n",
       "      <td>LA</td>\n",
       "    </tr>\n",
       "    <tr>\n",
       "      <th>2152858</th>\n",
       "      <td>4.0</td>\n",
       "      <td>3.0</td>\n",
       "      <td>2262</td>\n",
       "      <td>960756.0</td>\n",
       "      <td>2015</td>\n",
       "      <td>13494.52</td>\n",
       "      <td>Orange</td>\n",
       "    </tr>\n",
       "    <tr>\n",
       "      <th>2152859</th>\n",
       "      <td>4.0</td>\n",
       "      <td>4.5</td>\n",
       "      <td>3127</td>\n",
       "      <td>536061.0</td>\n",
       "      <td>2014</td>\n",
       "      <td>6244.16</td>\n",
       "      <td>Orange</td>\n",
       "    </tr>\n",
       "    <tr>\n",
       "      <th>2152861</th>\n",
       "      <td>3.0</td>\n",
       "      <td>2.5</td>\n",
       "      <td>1974</td>\n",
       "      <td>424353.0</td>\n",
       "      <td>2015</td>\n",
       "      <td>5302.70</td>\n",
       "      <td>Orange</td>\n",
       "    </tr>\n",
       "    <tr>\n",
       "      <th>2152862</th>\n",
       "      <td>4.0</td>\n",
       "      <td>4.0</td>\n",
       "      <td>2110</td>\n",
       "      <td>554009.0</td>\n",
       "      <td>2014</td>\n",
       "      <td>6761.20</td>\n",
       "      <td>LA</td>\n",
       "    </tr>\n",
       "  </tbody>\n",
       "</table>\n",
       "<p>2034058 rows × 7 columns</p>\n",
       "</div>"
      ],
      "text/plain": [
       "         bedrooms  bathrooms  area  property_value  yearbuilt  taxamount  \\\n",
       "4             4.0        2.0  3633        296425.0       2005    6941.39   \n",
       "6             3.0        4.0  1620        847770.0       2011   10244.94   \n",
       "7             3.0        2.0  2077        646760.0       1926    7924.68   \n",
       "11            0.0        0.0  1200          5328.0       1972      91.60   \n",
       "14            0.0        0.0   171          6920.0       1973     255.17   \n",
       "...           ...        ...   ...             ...        ...        ...   \n",
       "2152856       4.0        4.0  4375        422400.0       2015   13877.56   \n",
       "2152858       4.0        3.0  2262        960756.0       2015   13494.52   \n",
       "2152859       4.0        4.5  3127        536061.0       2014    6244.16   \n",
       "2152861       3.0        2.5  1974        424353.0       2015    5302.70   \n",
       "2152862       4.0        4.0  2110        554009.0       2014    6761.20   \n",
       "\n",
       "         county  \n",
       "4            LA  \n",
       "6            LA  \n",
       "7            LA  \n",
       "11           LA  \n",
       "14           LA  \n",
       "...         ...  \n",
       "2152856      LA  \n",
       "2152858  Orange  \n",
       "2152859  Orange  \n",
       "2152861  Orange  \n",
       "2152862      LA  \n",
       "\n",
       "[2034058 rows x 7 columns]"
      ]
     },
     "execution_count": 3,
     "metadata": {},
     "output_type": "execute_result"
    }
   ],
   "source": [
    "df"
   ]
  },
  {
   "cell_type": "code",
   "execution_count": 4,
   "id": "875cead1-2143-4213-95f1-0cf36062b6eb",
   "metadata": {},
   "outputs": [
    {
     "data": {
      "text/plain": [
       "['county']"
      ]
     },
     "execution_count": 4,
     "metadata": {},
     "output_type": "execute_result"
    }
   ],
   "source": [
    "w.get_object_cols(df)"
   ]
  },
  {
   "cell_type": "code",
   "execution_count": 5,
   "id": "c84e0eb4-fdcf-467a-87ed-0a95785745fd",
   "metadata": {},
   "outputs": [
    {
     "data": {
      "text/plain": [
       "['bedrooms', 'bathrooms', 'area', 'property_value', 'yearbuilt', 'taxamount']"
      ]
     },
     "execution_count": 5,
     "metadata": {},
     "output_type": "execute_result"
    }
   ],
   "source": [
    "w.get_numeric_cols(df)"
   ]
  },
  {
   "cell_type": "code",
   "execution_count": 6,
   "id": "e32926d4-e574-4173-b622-81b31b3e601f",
   "metadata": {},
   "outputs": [],
   "source": [
    "dummy_tips = pd.get_dummies(df[['county']], dummy_na=False, drop_first=[True, True])\n",
    "df = pd.concat([df, dummy_tips], axis=1)"
   ]
  },
  {
   "cell_type": "code",
   "execution_count": 7,
   "id": "c81c5b7f-3a34-40aa-a5ec-a7c96be09d00",
   "metadata": {},
   "outputs": [],
   "source": [
    "df = df.drop(columns =['county'])"
   ]
  },
  {
   "cell_type": "code",
   "execution_count": 8,
   "id": "6699de52-f3a1-40aa-bf37-1729f7c55c3c",
   "metadata": {},
   "outputs": [
    {
     "data": {
      "text/html": [
       "<div>\n",
       "<style scoped>\n",
       "    .dataframe tbody tr th:only-of-type {\n",
       "        vertical-align: middle;\n",
       "    }\n",
       "\n",
       "    .dataframe tbody tr th {\n",
       "        vertical-align: top;\n",
       "    }\n",
       "\n",
       "    .dataframe thead th {\n",
       "        text-align: right;\n",
       "    }\n",
       "</style>\n",
       "<table border=\"1\" class=\"dataframe\">\n",
       "  <thead>\n",
       "    <tr style=\"text-align: right;\">\n",
       "      <th></th>\n",
       "      <th>bedrooms</th>\n",
       "      <th>bathrooms</th>\n",
       "      <th>area</th>\n",
       "      <th>property_value</th>\n",
       "      <th>yearbuilt</th>\n",
       "      <th>taxamount</th>\n",
       "      <th>county_Orange</th>\n",
       "      <th>county_Ventura</th>\n",
       "    </tr>\n",
       "  </thead>\n",
       "  <tbody>\n",
       "    <tr>\n",
       "      <th>4</th>\n",
       "      <td>4.0</td>\n",
       "      <td>2.0</td>\n",
       "      <td>3633</td>\n",
       "      <td>296425.0</td>\n",
       "      <td>2005</td>\n",
       "      <td>6941.39</td>\n",
       "      <td>0</td>\n",
       "      <td>0</td>\n",
       "    </tr>\n",
       "    <tr>\n",
       "      <th>6</th>\n",
       "      <td>3.0</td>\n",
       "      <td>4.0</td>\n",
       "      <td>1620</td>\n",
       "      <td>847770.0</td>\n",
       "      <td>2011</td>\n",
       "      <td>10244.94</td>\n",
       "      <td>0</td>\n",
       "      <td>0</td>\n",
       "    </tr>\n",
       "    <tr>\n",
       "      <th>7</th>\n",
       "      <td>3.0</td>\n",
       "      <td>2.0</td>\n",
       "      <td>2077</td>\n",
       "      <td>646760.0</td>\n",
       "      <td>1926</td>\n",
       "      <td>7924.68</td>\n",
       "      <td>0</td>\n",
       "      <td>0</td>\n",
       "    </tr>\n",
       "    <tr>\n",
       "      <th>11</th>\n",
       "      <td>0.0</td>\n",
       "      <td>0.0</td>\n",
       "      <td>1200</td>\n",
       "      <td>5328.0</td>\n",
       "      <td>1972</td>\n",
       "      <td>91.60</td>\n",
       "      <td>0</td>\n",
       "      <td>0</td>\n",
       "    </tr>\n",
       "    <tr>\n",
       "      <th>14</th>\n",
       "      <td>0.0</td>\n",
       "      <td>0.0</td>\n",
       "      <td>171</td>\n",
       "      <td>6920.0</td>\n",
       "      <td>1973</td>\n",
       "      <td>255.17</td>\n",
       "      <td>0</td>\n",
       "      <td>0</td>\n",
       "    </tr>\n",
       "    <tr>\n",
       "      <th>...</th>\n",
       "      <td>...</td>\n",
       "      <td>...</td>\n",
       "      <td>...</td>\n",
       "      <td>...</td>\n",
       "      <td>...</td>\n",
       "      <td>...</td>\n",
       "      <td>...</td>\n",
       "      <td>...</td>\n",
       "    </tr>\n",
       "    <tr>\n",
       "      <th>2152856</th>\n",
       "      <td>4.0</td>\n",
       "      <td>4.0</td>\n",
       "      <td>4375</td>\n",
       "      <td>422400.0</td>\n",
       "      <td>2015</td>\n",
       "      <td>13877.56</td>\n",
       "      <td>0</td>\n",
       "      <td>0</td>\n",
       "    </tr>\n",
       "    <tr>\n",
       "      <th>2152858</th>\n",
       "      <td>4.0</td>\n",
       "      <td>3.0</td>\n",
       "      <td>2262</td>\n",
       "      <td>960756.0</td>\n",
       "      <td>2015</td>\n",
       "      <td>13494.52</td>\n",
       "      <td>1</td>\n",
       "      <td>0</td>\n",
       "    </tr>\n",
       "    <tr>\n",
       "      <th>2152859</th>\n",
       "      <td>4.0</td>\n",
       "      <td>4.5</td>\n",
       "      <td>3127</td>\n",
       "      <td>536061.0</td>\n",
       "      <td>2014</td>\n",
       "      <td>6244.16</td>\n",
       "      <td>1</td>\n",
       "      <td>0</td>\n",
       "    </tr>\n",
       "    <tr>\n",
       "      <th>2152861</th>\n",
       "      <td>3.0</td>\n",
       "      <td>2.5</td>\n",
       "      <td>1974</td>\n",
       "      <td>424353.0</td>\n",
       "      <td>2015</td>\n",
       "      <td>5302.70</td>\n",
       "      <td>1</td>\n",
       "      <td>0</td>\n",
       "    </tr>\n",
       "    <tr>\n",
       "      <th>2152862</th>\n",
       "      <td>4.0</td>\n",
       "      <td>4.0</td>\n",
       "      <td>2110</td>\n",
       "      <td>554009.0</td>\n",
       "      <td>2014</td>\n",
       "      <td>6761.20</td>\n",
       "      <td>0</td>\n",
       "      <td>0</td>\n",
       "    </tr>\n",
       "  </tbody>\n",
       "</table>\n",
       "<p>2034058 rows × 8 columns</p>\n",
       "</div>"
      ],
      "text/plain": [
       "         bedrooms  bathrooms  area  property_value  yearbuilt  taxamount  \\\n",
       "4             4.0        2.0  3633        296425.0       2005    6941.39   \n",
       "6             3.0        4.0  1620        847770.0       2011   10244.94   \n",
       "7             3.0        2.0  2077        646760.0       1926    7924.68   \n",
       "11            0.0        0.0  1200          5328.0       1972      91.60   \n",
       "14            0.0        0.0   171          6920.0       1973     255.17   \n",
       "...           ...        ...   ...             ...        ...        ...   \n",
       "2152856       4.0        4.0  4375        422400.0       2015   13877.56   \n",
       "2152858       4.0        3.0  2262        960756.0       2015   13494.52   \n",
       "2152859       4.0        4.5  3127        536061.0       2014    6244.16   \n",
       "2152861       3.0        2.5  1974        424353.0       2015    5302.70   \n",
       "2152862       4.0        4.0  2110        554009.0       2014    6761.20   \n",
       "\n",
       "         county_Orange  county_Ventura  \n",
       "4                    0               0  \n",
       "6                    0               0  \n",
       "7                    0               0  \n",
       "11                   0               0  \n",
       "14                   0               0  \n",
       "...                ...             ...  \n",
       "2152856              0               0  \n",
       "2152858              1               0  \n",
       "2152859              1               0  \n",
       "2152861              1               0  \n",
       "2152862              0               0  \n",
       "\n",
       "[2034058 rows x 8 columns]"
      ]
     },
     "execution_count": 8,
     "metadata": {},
     "output_type": "execute_result"
    }
   ],
   "source": [
    "df"
   ]
  },
  {
   "cell_type": "code",
   "execution_count": 9,
   "id": "4df66332-02d2-410d-9821-da0a13e8aea8",
   "metadata": {},
   "outputs": [],
   "source": [
    "train, validate, test = w.get_split(df)"
   ]
  },
  {
   "cell_type": "code",
   "execution_count": 10,
   "id": "df3925cf-6c84-4c5f-971b-ef581788efa2",
   "metadata": {},
   "outputs": [
    {
     "data": {
      "text/plain": [
       "((1220434, 8), (406812, 8), (406812, 8))"
      ]
     },
     "execution_count": 10,
     "metadata": {},
     "output_type": "execute_result"
    }
   ],
   "source": [
    "train.shape, validate.shape, test.shape"
   ]
  },
  {
   "cell_type": "code",
   "execution_count": 11,
   "id": "bc6da683-9a57-4079-a438-c8100433c226",
   "metadata": {},
   "outputs": [],
   "source": [
    "X_train, y_train = train.drop(columns=['property_value']), train.property_value\n",
    "X_validate, y_validate = validate.drop(columns=['property_value']), validate.property_value\n",
    "X_test, y_test = test.drop(columns=['property_value']), test.property_value"
   ]
  },
  {
   "cell_type": "code",
   "execution_count": 12,
   "id": "d49f1801-ed6e-43ba-b862-fe97c9f01f6e",
   "metadata": {},
   "outputs": [],
   "source": [
    "to_scale = X_train.columns.tolist()"
   ]
  },
  {
   "cell_type": "code",
   "execution_count": 13,
   "id": "cc176e69-a620-46eb-ac27-a8486748a4d8",
   "metadata": {},
   "outputs": [
    {
     "data": {
      "text/html": [
       "<div>\n",
       "<style scoped>\n",
       "    .dataframe tbody tr th:only-of-type {\n",
       "        vertical-align: middle;\n",
       "    }\n",
       "\n",
       "    .dataframe tbody tr th {\n",
       "        vertical-align: top;\n",
       "    }\n",
       "\n",
       "    .dataframe thead th {\n",
       "        text-align: right;\n",
       "    }\n",
       "</style>\n",
       "<table border=\"1\" class=\"dataframe\">\n",
       "  <thead>\n",
       "    <tr style=\"text-align: right;\">\n",
       "      <th></th>\n",
       "      <th>bedrooms</th>\n",
       "      <th>bathrooms</th>\n",
       "      <th>area</th>\n",
       "      <th>yearbuilt</th>\n",
       "      <th>taxamount</th>\n",
       "      <th>county_Orange</th>\n",
       "      <th>county_Ventura</th>\n",
       "    </tr>\n",
       "  </thead>\n",
       "  <tbody>\n",
       "    <tr>\n",
       "      <th>1196984</th>\n",
       "      <td>0.200000</td>\n",
       "      <td>0.050</td>\n",
       "      <td>0.042735</td>\n",
       "      <td>0.679070</td>\n",
       "      <td>0.024092</td>\n",
       "      <td>0.0</td>\n",
       "      <td>0.0</td>\n",
       "    </tr>\n",
       "    <tr>\n",
       "      <th>1563409</th>\n",
       "      <td>0.200000</td>\n",
       "      <td>0.100</td>\n",
       "      <td>0.077501</td>\n",
       "      <td>0.734884</td>\n",
       "      <td>0.042828</td>\n",
       "      <td>0.0</td>\n",
       "      <td>0.0</td>\n",
       "    </tr>\n",
       "    <tr>\n",
       "      <th>486661</th>\n",
       "      <td>0.200000</td>\n",
       "      <td>0.150</td>\n",
       "      <td>0.100293</td>\n",
       "      <td>0.767442</td>\n",
       "      <td>0.088135</td>\n",
       "      <td>0.0</td>\n",
       "      <td>0.0</td>\n",
       "    </tr>\n",
       "    <tr>\n",
       "      <th>328430</th>\n",
       "      <td>0.200000</td>\n",
       "      <td>0.100</td>\n",
       "      <td>0.066229</td>\n",
       "      <td>0.660465</td>\n",
       "      <td>0.029617</td>\n",
       "      <td>0.0</td>\n",
       "      <td>0.0</td>\n",
       "    </tr>\n",
       "    <tr>\n",
       "      <th>654871</th>\n",
       "      <td>0.400000</td>\n",
       "      <td>0.150</td>\n",
       "      <td>0.111441</td>\n",
       "      <td>0.851163</td>\n",
       "      <td>0.031777</td>\n",
       "      <td>1.0</td>\n",
       "      <td>0.0</td>\n",
       "    </tr>\n",
       "    <tr>\n",
       "      <th>...</th>\n",
       "      <td>...</td>\n",
       "      <td>...</td>\n",
       "      <td>...</td>\n",
       "      <td>...</td>\n",
       "      <td>...</td>\n",
       "      <td>...</td>\n",
       "      <td>...</td>\n",
       "    </tr>\n",
       "    <tr>\n",
       "      <th>225651</th>\n",
       "      <td>0.200000</td>\n",
       "      <td>0.150</td>\n",
       "      <td>0.094471</td>\n",
       "      <td>0.934884</td>\n",
       "      <td>0.056329</td>\n",
       "      <td>1.0</td>\n",
       "      <td>0.0</td>\n",
       "    </tr>\n",
       "    <tr>\n",
       "      <th>741819</th>\n",
       "      <td>0.266667</td>\n",
       "      <td>0.150</td>\n",
       "      <td>0.117098</td>\n",
       "      <td>0.795349</td>\n",
       "      <td>0.063061</td>\n",
       "      <td>1.0</td>\n",
       "      <td>0.0</td>\n",
       "    </tr>\n",
       "    <tr>\n",
       "      <th>1989492</th>\n",
       "      <td>0.200000</td>\n",
       "      <td>0.125</td>\n",
       "      <td>0.060325</td>\n",
       "      <td>0.813953</td>\n",
       "      <td>0.041452</td>\n",
       "      <td>1.0</td>\n",
       "      <td>0.0</td>\n",
       "    </tr>\n",
       "    <tr>\n",
       "      <th>662013</th>\n",
       "      <td>0.133333</td>\n",
       "      <td>0.100</td>\n",
       "      <td>0.049135</td>\n",
       "      <td>0.688372</td>\n",
       "      <td>0.051459</td>\n",
       "      <td>0.0</td>\n",
       "      <td>0.0</td>\n",
       "    </tr>\n",
       "    <tr>\n",
       "      <th>855329</th>\n",
       "      <td>0.200000</td>\n",
       "      <td>0.050</td>\n",
       "      <td>0.066848</td>\n",
       "      <td>0.679070</td>\n",
       "      <td>0.013490</td>\n",
       "      <td>0.0</td>\n",
       "      <td>0.0</td>\n",
       "    </tr>\n",
       "  </tbody>\n",
       "</table>\n",
       "<p>1220434 rows × 7 columns</p>\n",
       "</div>"
      ],
      "text/plain": [
       "         bedrooms  bathrooms      area  yearbuilt  taxamount  county_Orange  \\\n",
       "1196984  0.200000      0.050  0.042735   0.679070   0.024092            0.0   \n",
       "1563409  0.200000      0.100  0.077501   0.734884   0.042828            0.0   \n",
       "486661   0.200000      0.150  0.100293   0.767442   0.088135            0.0   \n",
       "328430   0.200000      0.100  0.066229   0.660465   0.029617            0.0   \n",
       "654871   0.400000      0.150  0.111441   0.851163   0.031777            1.0   \n",
       "...           ...        ...       ...        ...        ...            ...   \n",
       "225651   0.200000      0.150  0.094471   0.934884   0.056329            1.0   \n",
       "741819   0.266667      0.150  0.117098   0.795349   0.063061            1.0   \n",
       "1989492  0.200000      0.125  0.060325   0.813953   0.041452            1.0   \n",
       "662013   0.133333      0.100  0.049135   0.688372   0.051459            0.0   \n",
       "855329   0.200000      0.050  0.066848   0.679070   0.013490            0.0   \n",
       "\n",
       "         county_Ventura  \n",
       "1196984             0.0  \n",
       "1563409             0.0  \n",
       "486661              0.0  \n",
       "328430              0.0  \n",
       "654871              0.0  \n",
       "...                 ...  \n",
       "225651              0.0  \n",
       "741819              0.0  \n",
       "1989492             0.0  \n",
       "662013              0.0  \n",
       "855329              0.0  \n",
       "\n",
       "[1220434 rows x 7 columns]"
      ]
     },
     "execution_count": 13,
     "metadata": {},
     "output_type": "execute_result"
    }
   ],
   "source": [
    "X_train_scaled, X_validate_scaled, X_test_scaled = w.scale_data(X_train,X_validate,X_test,to_scale)\n",
    "X_train_scaled"
   ]
  },
  {
   "cell_type": "code",
   "execution_count": 14,
   "id": "2f2e3969-33ac-40c0-bdfb-a8e4989f1197",
   "metadata": {},
   "outputs": [
    {
     "data": {
      "text/plain": [
       "363708.5960109273"
      ]
     },
     "execution_count": 14,
     "metadata": {},
     "output_type": "execute_result"
    }
   ],
   "source": [
    "baseline = y_train.mean()\n",
    "baseline"
   ]
  },
  {
   "cell_type": "code",
   "execution_count": 15,
   "id": "44b65938-19f1-4def-bede-93b027cec79f",
   "metadata": {},
   "outputs": [],
   "source": [
    "#make an array to send into my mean_square_error function\n",
    "baseline_array = np.repeat(baseline, len(train))"
   ]
  },
  {
   "cell_type": "code",
   "execution_count": 16,
   "id": "8b3ea24b-0f1e-471d-a2f1-c2888918e22d",
   "metadata": {},
   "outputs": [
    {
     "data": {
      "text/plain": [
       "(243873.34821247822, 0.0)"
      ]
     },
     "execution_count": 16,
     "metadata": {},
     "output_type": "execute_result"
    }
   ],
   "source": [
    "rmse, r2 = w.metrics_reg(y_train, baseline_array)\n",
    "rmse, r2"
   ]
  },
  {
   "cell_type": "code",
   "execution_count": 17,
   "id": "d8583882-ac84-4c3d-ba8b-a8f48562ee2f",
   "metadata": {},
   "outputs": [
    {
     "data": {
      "text/html": [
       "<div>\n",
       "<style scoped>\n",
       "    .dataframe tbody tr th:only-of-type {\n",
       "        vertical-align: middle;\n",
       "    }\n",
       "\n",
       "    .dataframe tbody tr th {\n",
       "        vertical-align: top;\n",
       "    }\n",
       "\n",
       "    .dataframe thead th {\n",
       "        text-align: right;\n",
       "    }\n",
       "</style>\n",
       "<table border=\"1\" class=\"dataframe\">\n",
       "  <thead>\n",
       "    <tr style=\"text-align: right;\">\n",
       "      <th></th>\n",
       "      <th>model</th>\n",
       "      <th>rmse</th>\n",
       "      <th>r2</th>\n",
       "    </tr>\n",
       "  </thead>\n",
       "  <tbody>\n",
       "    <tr>\n",
       "      <th>0</th>\n",
       "      <td>baseline</td>\n",
       "      <td>243873.348212</td>\n",
       "      <td>0.0</td>\n",
       "    </tr>\n",
       "  </tbody>\n",
       "</table>\n",
       "</div>"
      ],
      "text/plain": [
       "      model           rmse   r2\n",
       "0  baseline  243873.348212  0.0"
      ]
     },
     "execution_count": 17,
     "metadata": {},
     "output_type": "execute_result"
    }
   ],
   "source": [
    "metrics_df = pd.DataFrame(data=[\n",
    "    {\n",
    "        'model':'baseline',\n",
    "        'rmse':rmse,\n",
    "        'r2':r2\n",
    "    }\n",
    "    \n",
    "])\n",
    "metrics_df"
   ]
  },
  {
   "cell_type": "markdown",
   "id": "c10e303a-a5ee-4709-9e4a-7a59f0cb743c",
   "metadata": {},
   "source": [
    "## Ordinary Least Squares (OLS)\n",
    "\n",
    "OLS is our standard linear regression algorithm and is computed by minimizing the sum of squared differences in the linear model (residual) with the actual data points"
   ]
  },
  {
   "cell_type": "code",
   "execution_count": 18,
   "id": "f4b0d449-5945-4285-a453-a349f7a702bb",
   "metadata": {},
   "outputs": [
    {
     "data": {
      "text/plain": [
       "Index(['bedrooms', 'area', 'taxamount'], dtype='object')"
      ]
     },
     "execution_count": 18,
     "metadata": {},
     "output_type": "execute_result"
    }
   ],
   "source": [
    "# USE THIS ONE to find the best features for RFE\n",
    "top_k_rfe, X_train_rfe, X_val_rfe = w.rfe(X_train_scaled,X_validate_scaled, y_train,3)\n",
    "top_k_rfe"
   ]
  },
  {
   "cell_type": "code",
   "execution_count": 19,
   "id": "56fc29d4-56e4-4718-aa3c-8513ef29fd37",
   "metadata": {},
   "outputs": [],
   "source": [
    "#intial ML model\n",
    "lr = LinearRegression()\n",
    "\n",
    "#fit the thing\n",
    "lr.fit(X_train_rfe, y_train)\n",
    "\n",
    "#use the thing (make predictions)\n",
    "pred_lr_rfe = lr.predict(X_train_rfe)\n",
    "pred_val_lr_rfe = lr.predict(X_val_rfe)"
   ]
  },
  {
   "cell_type": "markdown",
   "id": "420adeaf-c4d3-4cf9-b672-313aa03dcc65",
   "metadata": {},
   "source": [
    "### Evaluate"
   ]
  },
  {
   "cell_type": "code",
   "execution_count": 20,
   "id": "e67f90b6-5830-466c-9467-22f6e3f1c60d",
   "metadata": {},
   "outputs": [
    {
     "data": {
      "text/plain": [
       "(63179.229927660854, 0.9328849412816842)"
      ]
     },
     "execution_count": 20,
     "metadata": {},
     "output_type": "execute_result"
    }
   ],
   "source": [
    "#train\n",
    "w.metrics_reg(y_train, pred_lr_rfe)"
   ]
  },
  {
   "cell_type": "code",
   "execution_count": 21,
   "id": "222dd24f-0513-45b2-919a-7633702f02ff",
   "metadata": {},
   "outputs": [
    {
     "data": {
      "text/plain": [
       "(62884.24036798401, 0.9333636032043535)"
      ]
     },
     "execution_count": 21,
     "metadata": {},
     "output_type": "execute_result"
    }
   ],
   "source": [
    "#validate\n",
    "rmse, r2 = w.metrics_reg(y_validate, pred_val_lr_rfe)\n",
    "rmse, r2"
   ]
  },
  {
   "cell_type": "code",
   "execution_count": 22,
   "id": "97b0b103-d64a-45a2-9f28-854453339f6e",
   "metadata": {},
   "outputs": [
    {
     "data": {
      "text/html": [
       "<div>\n",
       "<style scoped>\n",
       "    .dataframe tbody tr th:only-of-type {\n",
       "        vertical-align: middle;\n",
       "    }\n",
       "\n",
       "    .dataframe tbody tr th {\n",
       "        vertical-align: top;\n",
       "    }\n",
       "\n",
       "    .dataframe thead th {\n",
       "        text-align: right;\n",
       "    }\n",
       "</style>\n",
       "<table border=\"1\" class=\"dataframe\">\n",
       "  <thead>\n",
       "    <tr style=\"text-align: right;\">\n",
       "      <th></th>\n",
       "      <th>model</th>\n",
       "      <th>rmse</th>\n",
       "      <th>r2</th>\n",
       "    </tr>\n",
       "  </thead>\n",
       "  <tbody>\n",
       "    <tr>\n",
       "      <th>0</th>\n",
       "      <td>baseline</td>\n",
       "      <td>243873.348212</td>\n",
       "      <td>0.000000</td>\n",
       "    </tr>\n",
       "    <tr>\n",
       "      <th>1</th>\n",
       "      <td>ols+RFE</td>\n",
       "      <td>62884.240368</td>\n",
       "      <td>0.933364</td>\n",
       "    </tr>\n",
       "  </tbody>\n",
       "</table>\n",
       "</div>"
      ],
      "text/plain": [
       "      model           rmse        r2\n",
       "0  baseline  243873.348212  0.000000\n",
       "1   ols+RFE   62884.240368  0.933364"
      ]
     },
     "execution_count": 22,
     "metadata": {},
     "output_type": "execute_result"
    }
   ],
   "source": [
    "#add to my metrics df\n",
    "metrics_df.loc[1] = ['ols+RFE', rmse, r2]\n",
    "metrics_df"
   ]
  },
  {
   "cell_type": "code",
   "execution_count": 23,
   "id": "d06169e3-3eed-446b-baf5-5920d298119b",
   "metadata": {},
   "outputs": [
    {
     "data": {
      "image/png": "[encoded data removed]",
      "text/plain": [
       "<Figure size 400x400 with 1 Axes>"
      ]
     },
     "metadata": {},
     "output_type": "display_data"
    }
   ],
   "source": [
    "plt.figure(figsize=(4, 4))\n",
    "\n",
    "plt.scatter(train.bedrooms,train.bathrooms)\n",
    "\n",
    "# # build prediction line from intercept and slope\n",
    "# x_val = np.array([-2, 100]).reshape(-1, 1)\n",
    "# plt.plot(x_val, lr.intercept_ + x_val*lr.coef_[0], c='black')\n",
    "\n",
    "#intercept line\n",
    "plt.hlines(22, -5, 100, ls=':', color='red')  \n",
    "\n",
    "#(0,0) axis\n",
    "plt.hlines(0, -5, 100, ls='--', color='grey')\n",
    "plt.vlines(0, -10, 100, ls='--', color='grey')\n",
    "\n",
    "plt.xlabel('TOP K RFE')\n",
    "plt.ylabel('Property Value')\n",
    "plt.show()"
   ]
  },
  {
   "cell_type": "markdown",
   "id": "c07c4c46-92af-4cb0-a9a3-3243df16b533",
   "metadata": {},
   "source": [
    "## Multiple Regression"
   ]
  },
  {
   "cell_type": "code",
   "execution_count": 24,
   "id": "d886a24a-7d64-403d-82d1-bf2c9a7cb11d",
   "metadata": {},
   "outputs": [],
   "source": [
    "#make it\n",
    "lr = LinearRegression()\n",
    "\n",
    "#fit it on our RFE features\n",
    "lr.fit(X_train_scaled, y_train)\n",
    "\n",
    "#use it (make predictions)\n",
    "pred_lr = lr.predict(X_train_scaled)\n",
    "\n",
    "#use it on validate\n",
    "pred_val_lr = lr.predict(X_validate_scaled)"
   ]
  },
  {
   "cell_type": "markdown",
   "id": "0bebdf1b-94c8-4bf6-8ca1-7bf5b4549b20",
   "metadata": {},
   "source": [
    "### Evaluate"
   ]
  },
  {
   "cell_type": "code",
   "execution_count": 25,
   "id": "7abbb303-9a3d-49bd-a4ad-fff23d4af09c",
   "metadata": {},
   "outputs": [
    {
     "data": {
      "text/plain": [
       "(60080.8224772312, 0.9393063778155164)"
      ]
     },
     "execution_count": 25,
     "metadata": {},
     "output_type": "execute_result"
    }
   ],
   "source": [
    "#train \n",
    "w.metrics_reg(y_train, pred_lr)"
   ]
  },
  {
   "cell_type": "code",
   "execution_count": 26,
   "id": "bde8a546-b2a5-473b-9a39-1b86f90537e1",
   "metadata": {},
   "outputs": [
    {
     "data": {
      "text/plain": [
       "(59802.76176771856, 0.9397342800816282)"
      ]
     },
     "execution_count": 26,
     "metadata": {},
     "output_type": "execute_result"
    }
   ],
   "source": [
    "#validate\n",
    "rmse, r2 = w.metrics_reg(y_validate, pred_val_lr)\n",
    "rmse, r2"
   ]
  },
  {
   "cell_type": "code",
   "execution_count": 27,
   "id": "427bceaa-aa8e-4c0e-8090-4d25f355c196",
   "metadata": {},
   "outputs": [
    {
     "data": {
      "text/html": [
       "<div>\n",
       "<style scoped>\n",
       "    .dataframe tbody tr th:only-of-type {\n",
       "        vertical-align: middle;\n",
       "    }\n",
       "\n",
       "    .dataframe tbody tr th {\n",
       "        vertical-align: top;\n",
       "    }\n",
       "\n",
       "    .dataframe thead th {\n",
       "        text-align: right;\n",
       "    }\n",
       "</style>\n",
       "<table border=\"1\" class=\"dataframe\">\n",
       "  <thead>\n",
       "    <tr style=\"text-align: right;\">\n",
       "      <th></th>\n",
       "      <th>model</th>\n",
       "      <th>rmse</th>\n",
       "      <th>r2</th>\n",
       "    </tr>\n",
       "  </thead>\n",
       "  <tbody>\n",
       "    <tr>\n",
       "      <th>0</th>\n",
       "      <td>baseline</td>\n",
       "      <td>243873.348212</td>\n",
       "      <td>0.000000</td>\n",
       "    </tr>\n",
       "    <tr>\n",
       "      <th>1</th>\n",
       "      <td>ols+RFE</td>\n",
       "      <td>62884.240368</td>\n",
       "      <td>0.933364</td>\n",
       "    </tr>\n",
       "    <tr>\n",
       "      <th>2</th>\n",
       "      <td>ols</td>\n",
       "      <td>59802.761768</td>\n",
       "      <td>0.939734</td>\n",
       "    </tr>\n",
       "  </tbody>\n",
       "</table>\n",
       "</div>"
      ],
      "text/plain": [
       "      model           rmse        r2\n",
       "0  baseline  243873.348212  0.000000\n",
       "1   ols+RFE   62884.240368  0.933364\n",
       "2       ols   59802.761768  0.939734"
      ]
     },
     "execution_count": 27,
     "metadata": {},
     "output_type": "execute_result"
    }
   ],
   "source": [
    "#add to my metrics df\n",
    "metrics_df.loc[2] = ['ols', rmse, r2]\n",
    "metrics_df"
   ]
  },
  {
   "cell_type": "markdown",
   "id": "3f13839d-739f-41a9-8b83-a70dc515fa36",
   "metadata": {},
   "source": [
    "## LassoLars"
   ]
  },
  {
   "cell_type": "code",
   "execution_count": 28,
   "id": "f491f532-098b-4ac7-8336-cdca13401602",
   "metadata": {},
   "outputs": [],
   "source": [
    "# alpha = 10, identical to OLS\n",
    "\n",
    "#make it\n",
    "lars = LassoLars(alpha=1)\n",
    "\n",
    "#fit it\n",
    "lars.fit(X_train_scaled, y_train)\n",
    "\n",
    "#use it\n",
    "pred_lars = lars.predict(X_train_scaled)\n",
    "pred_val_lars = lars.predict(X_validate_scaled)"
   ]
  },
  {
   "cell_type": "markdown",
   "id": "85ee1967-9513-4daa-8704-9963138342ff",
   "metadata": {},
   "source": [
    "### Evaluate"
   ]
  },
  {
   "cell_type": "code",
   "execution_count": 29,
   "id": "98032c72-2b5d-46bc-a0c1-9482e82fb0ab",
   "metadata": {},
   "outputs": [
    {
     "data": {
      "text/plain": [
       "(60224.01848197085, 0.9390167199522954)"
      ]
     },
     "execution_count": 29,
     "metadata": {},
     "output_type": "execute_result"
    }
   ],
   "source": [
    "#train\n",
    "w.metrics_reg(y_train, pred_lars)"
   ]
  },
  {
   "cell_type": "code",
   "execution_count": 30,
   "id": "33615b10-5ac3-4c79-823b-9df9db0a17ac",
   "metadata": {},
   "outputs": [
    {
     "data": {
      "text/plain": [
       "(59936.41554164729, 0.9394646021779106)"
      ]
     },
     "execution_count": 30,
     "metadata": {},
     "output_type": "execute_result"
    }
   ],
   "source": [
    "#validate\n",
    "rmse, r2 = w.metrics_reg(y_validate, pred_val_lars)\n",
    "rmse, r2"
   ]
  },
  {
   "cell_type": "code",
   "execution_count": 31,
   "id": "9df07d18-49ca-4ed5-ac99-e11e21fcc9c4",
   "metadata": {},
   "outputs": [
    {
     "data": {
      "text/html": [
       "<div>\n",
       "<style scoped>\n",
       "    .dataframe tbody tr th:only-of-type {\n",
       "        vertical-align: middle;\n",
       "    }\n",
       "\n",
       "    .dataframe tbody tr th {\n",
       "        vertical-align: top;\n",
       "    }\n",
       "\n",
       "    .dataframe thead th {\n",
       "        text-align: right;\n",
       "    }\n",
       "</style>\n",
       "<table border=\"1\" class=\"dataframe\">\n",
       "  <thead>\n",
       "    <tr style=\"text-align: right;\">\n",
       "      <th></th>\n",
       "      <th>model</th>\n",
       "      <th>rmse</th>\n",
       "      <th>r2</th>\n",
       "    </tr>\n",
       "  </thead>\n",
       "  <tbody>\n",
       "    <tr>\n",
       "      <th>0</th>\n",
       "      <td>baseline</td>\n",
       "      <td>243873.348212</td>\n",
       "      <td>0.000000</td>\n",
       "    </tr>\n",
       "    <tr>\n",
       "      <th>1</th>\n",
       "      <td>ols+RFE</td>\n",
       "      <td>62884.240368</td>\n",
       "      <td>0.933364</td>\n",
       "    </tr>\n",
       "    <tr>\n",
       "      <th>2</th>\n",
       "      <td>ols</td>\n",
       "      <td>59802.761768</td>\n",
       "      <td>0.939734</td>\n",
       "    </tr>\n",
       "    <tr>\n",
       "      <th>3</th>\n",
       "      <td>lars</td>\n",
       "      <td>59936.415542</td>\n",
       "      <td>0.939465</td>\n",
       "    </tr>\n",
       "  </tbody>\n",
       "</table>\n",
       "</div>"
      ],
      "text/plain": [
       "      model           rmse        r2\n",
       "0  baseline  243873.348212  0.000000\n",
       "1   ols+RFE   62884.240368  0.933364\n",
       "2       ols   59802.761768  0.939734\n",
       "3      lars   59936.415542  0.939465"
      ]
     },
     "execution_count": 31,
     "metadata": {},
     "output_type": "execute_result"
    }
   ],
   "source": [
    "#add to my metrics df\n",
    "metrics_df.loc[3] = ['lars', rmse, r2]\n",
    "metrics_df"
   ]
  },
  {
   "cell_type": "markdown",
   "id": "a964cc48-e979-4f52-9de9-d25f277edb84",
   "metadata": {},
   "source": [
    "## Polynomial Regression"
   ]
  },
  {
   "cell_type": "code",
   "execution_count": 32,
   "id": "a249daed-a8e9-402e-931a-fa255134fa28",
   "metadata": {},
   "outputs": [],
   "source": [
    "# make the polynomial features to get a new set of features\n",
    "pf = PolynomialFeatures(degree=2)\n",
    "\n",
    "# fit and transform X_train_scaled\n",
    "X_train_degree2 = pf.fit_transform(X_train_scaled)\n",
    "\n",
    "# transform X_validate_scaled & X_test_scaled\n",
    "X_validate_degree2 = pf.transform(X_validate_scaled)\n",
    "X_test_degree2 = pf.transform(X_test_scaled)"
   ]
  },
  {
   "cell_type": "code",
   "execution_count": 33,
   "id": "02e95de9-ffdf-482d-87ac-6b03249eeac9",
   "metadata": {},
   "outputs": [],
   "source": [
    "#make it\n",
    "pr = LinearRegression()\n",
    "\n",
    "#fit it\n",
    "pr.fit(X_train_degree2, y_train)\n",
    "\n",
    "#use it\n",
    "pred_pr = pr.predict(X_train_degree2)\n",
    "pred_val_pr = pr.predict(X_validate_degree2)"
   ]
  },
  {
   "cell_type": "markdown",
   "id": "f6d24153-d9bc-4ffe-bc6e-5c919523e931",
   "metadata": {},
   "source": [
    "### Evaluate"
   ]
  },
  {
   "cell_type": "code",
   "execution_count": 34,
   "id": "4b208de6-e70b-46f5-9e9a-ed1dc42ba1f1",
   "metadata": {},
   "outputs": [
    {
     "data": {
      "text/plain": [
       "(54749.56722693432, 0.949599748981432)"
      ]
     },
     "execution_count": 34,
     "metadata": {},
     "output_type": "execute_result"
    }
   ],
   "source": [
    "#train\n",
    "w.metrics_reg(y_train, pred_pr)"
   ]
  },
  {
   "cell_type": "code",
   "execution_count": 35,
   "id": "9f2fdaa0-994c-4790-9e67-5a42f03bd9ca",
   "metadata": {},
   "outputs": [
    {
     "data": {
      "text/plain": [
       "(54341.118585942175, 0.9502394679489672)"
      ]
     },
     "execution_count": 35,
     "metadata": {},
     "output_type": "execute_result"
    }
   ],
   "source": [
    "#validate\n",
    "rmse, r2 = w.metrics_reg(y_validate, pred_val_pr)\n",
    "rmse, r2"
   ]
  },
  {
   "cell_type": "code",
   "execution_count": 36,
   "id": "5cd2ffcf-f477-4097-904a-233f19803a28",
   "metadata": {},
   "outputs": [
    {
     "data": {
      "text/html": [
       "<div>\n",
       "<style scoped>\n",
       "    .dataframe tbody tr th:only-of-type {\n",
       "        vertical-align: middle;\n",
       "    }\n",
       "\n",
       "    .dataframe tbody tr th {\n",
       "        vertical-align: top;\n",
       "    }\n",
       "\n",
       "    .dataframe thead th {\n",
       "        text-align: right;\n",
       "    }\n",
       "</style>\n",
       "<table border=\"1\" class=\"dataframe\">\n",
       "  <thead>\n",
       "    <tr style=\"text-align: right;\">\n",
       "      <th></th>\n",
       "      <th>model</th>\n",
       "      <th>rmse</th>\n",
       "      <th>r2</th>\n",
       "    </tr>\n",
       "  </thead>\n",
       "  <tbody>\n",
       "    <tr>\n",
       "      <th>0</th>\n",
       "      <td>baseline</td>\n",
       "      <td>243873.348212</td>\n",
       "      <td>0.000000</td>\n",
       "    </tr>\n",
       "    <tr>\n",
       "      <th>1</th>\n",
       "      <td>ols+RFE</td>\n",
       "      <td>62884.240368</td>\n",
       "      <td>0.933364</td>\n",
       "    </tr>\n",
       "    <tr>\n",
       "      <th>2</th>\n",
       "      <td>ols</td>\n",
       "      <td>59802.761768</td>\n",
       "      <td>0.939734</td>\n",
       "    </tr>\n",
       "    <tr>\n",
       "      <th>3</th>\n",
       "      <td>lars</td>\n",
       "      <td>59936.415542</td>\n",
       "      <td>0.939465</td>\n",
       "    </tr>\n",
       "    <tr>\n",
       "      <th>4</th>\n",
       "      <td>poly_2D</td>\n",
       "      <td>54341.118586</td>\n",
       "      <td>0.950239</td>\n",
       "    </tr>\n",
       "  </tbody>\n",
       "</table>\n",
       "</div>"
      ],
      "text/plain": [
       "      model           rmse        r2\n",
       "0  baseline  243873.348212  0.000000\n",
       "1   ols+RFE   62884.240368  0.933364\n",
       "2       ols   59802.761768  0.939734\n",
       "3      lars   59936.415542  0.939465\n",
       "4   poly_2D   54341.118586  0.950239"
      ]
     },
     "execution_count": 36,
     "metadata": {},
     "output_type": "execute_result"
    }
   ],
   "source": [
    "#add to my metrics df\n",
    "metrics_df.loc[4] = ['poly_2D', rmse, r2]\n",
    "metrics_df"
   ]
  },
  {
   "cell_type": "markdown",
   "id": "c7cae984-0336-4eb2-a538-80406d82aab3",
   "metadata": {},
   "source": [
    "## Generalized Linear Model (GLM)"
   ]
  },
  {
   "cell_type": "code",
   "execution_count": 37,
   "id": "1bc4d97b-acdf-44d2-b09e-3106fdd8486f",
   "metadata": {},
   "outputs": [],
   "source": [
    "#make it\n",
    "glm = TweedieRegressor(power=1, alpha=0)\n",
    "\n",
    "#fit it\n",
    "glm.fit(X_train_scaled, y_train)\n",
    "\n",
    "#use it\n",
    "pred_glm = glm.predict(X_train_scaled)\n",
    "pred_val_glm = glm.predict(X_validate_scaled)"
   ]
  },
  {
   "cell_type": "code",
   "execution_count": 38,
   "id": "f93f7b35-a901-436a-bc95-57ad7c6ae0f6",
   "metadata": {},
   "outputs": [
    {
     "data": {
      "text/plain": [
       "(2552539.142315191, -108.55094782287743)"
      ]
     },
     "execution_count": 38,
     "metadata": {},
     "output_type": "execute_result"
    }
   ],
   "source": [
    "#train\n",
    "w.metrics_reg(y_train, pred_glm)"
   ]
  },
  {
   "cell_type": "code",
   "execution_count": 39,
   "id": "9f844083-b81a-43c1-af9e-4f1251e13570",
   "metadata": {},
   "outputs": [
    {
     "data": {
      "text/plain": [
       "(211006.17301123455, 0.24972894995211503)"
      ]
     },
     "execution_count": 39,
     "metadata": {},
     "output_type": "execute_result"
    }
   ],
   "source": [
    "#validate\n",
    "rmse, r2 = w.metrics_reg(y_validate, pred_val_glm)\n",
    "rmse, r2"
   ]
  },
  {
   "cell_type": "code",
   "execution_count": 40,
   "id": "4c0cf8ff-9a25-472b-99e8-1b6ed30259e9",
   "metadata": {},
   "outputs": [
    {
     "data": {
      "text/html": [
       "<div>\n",
       "<style scoped>\n",
       "    .dataframe tbody tr th:only-of-type {\n",
       "        vertical-align: middle;\n",
       "    }\n",
       "\n",
       "    .dataframe tbody tr th {\n",
       "        vertical-align: top;\n",
       "    }\n",
       "\n",
       "    .dataframe thead th {\n",
       "        text-align: right;\n",
       "    }\n",
       "</style>\n",
       "<table border=\"1\" class=\"dataframe\">\n",
       "  <thead>\n",
       "    <tr style=\"text-align: right;\">\n",
       "      <th></th>\n",
       "      <th>model</th>\n",
       "      <th>rmse</th>\n",
       "      <th>r2</th>\n",
       "    </tr>\n",
       "  </thead>\n",
       "  <tbody>\n",
       "    <tr>\n",
       "      <th>0</th>\n",
       "      <td>baseline</td>\n",
       "      <td>243873.348212</td>\n",
       "      <td>0.000000</td>\n",
       "    </tr>\n",
       "    <tr>\n",
       "      <th>1</th>\n",
       "      <td>ols+RFE</td>\n",
       "      <td>62884.240368</td>\n",
       "      <td>0.933364</td>\n",
       "    </tr>\n",
       "    <tr>\n",
       "      <th>2</th>\n",
       "      <td>ols</td>\n",
       "      <td>59802.761768</td>\n",
       "      <td>0.939734</td>\n",
       "    </tr>\n",
       "    <tr>\n",
       "      <th>3</th>\n",
       "      <td>lars</td>\n",
       "      <td>59936.415542</td>\n",
       "      <td>0.939465</td>\n",
       "    </tr>\n",
       "    <tr>\n",
       "      <th>4</th>\n",
       "      <td>poly_2D</td>\n",
       "      <td>54341.118586</td>\n",
       "      <td>0.950239</td>\n",
       "    </tr>\n",
       "    <tr>\n",
       "      <th>5</th>\n",
       "      <td>glm</td>\n",
       "      <td>211006.173011</td>\n",
       "      <td>0.249729</td>\n",
       "    </tr>\n",
       "  </tbody>\n",
       "</table>\n",
       "</div>"
      ],
      "text/plain": [
       "      model           rmse        r2\n",
       "0  baseline  243873.348212  0.000000\n",
       "1   ols+RFE   62884.240368  0.933364\n",
       "2       ols   59802.761768  0.939734\n",
       "3      lars   59936.415542  0.939465\n",
       "4   poly_2D   54341.118586  0.950239\n",
       "5       glm  211006.173011  0.249729"
      ]
     },
     "execution_count": 40,
     "metadata": {},
     "output_type": "execute_result"
    }
   ],
   "source": [
    "metrics_df.loc[5] = ['glm',rmse,r2]\n",
    "metrics_df"
   ]
  },
  {
   "cell_type": "markdown",
   "id": "0710ab47-4986-4ccd-a0ba-87d6f8ef8350",
   "metadata": {},
   "source": [
    "## Evaluate on BEST MODEL"
   ]
  },
  {
   "cell_type": "code",
   "execution_count": 41,
   "id": "6a53ecf2-ed10-4dbc-ab1f-c0c3ddf97934",
   "metadata": {},
   "outputs": [],
   "source": [
    "#use it\n",
    "pred_test = pr.predict(X_test_degree2)"
   ]
  },
  {
   "cell_type": "code",
   "execution_count": 42,
   "id": "d3279551-2b76-41b6-943d-220d356b3878",
   "metadata": {},
   "outputs": [
    {
     "data": {
      "text/plain": [
       "(54852.25071002515, 0.9494992292665597)"
      ]
     },
     "execution_count": 42,
     "metadata": {},
     "output_type": "execute_result"
    }
   ],
   "source": [
    "rmse, r2 = w.metrics_reg(y_test, pred_test)\n",
    "rmse, r2"
   ]
  },
  {
   "cell_type": "code",
   "execution_count": 43,
   "id": "65ff35e4-ebef-4965-8058-b415775da938",
   "metadata": {},
   "outputs": [
    {
     "data": {
      "text/html": [
       "<div>\n",
       "<style scoped>\n",
       "    .dataframe tbody tr th:only-of-type {\n",
       "        vertical-align: middle;\n",
       "    }\n",
       "\n",
       "    .dataframe tbody tr th {\n",
       "        vertical-align: top;\n",
       "    }\n",
       "\n",
       "    .dataframe thead th {\n",
       "        text-align: right;\n",
       "    }\n",
       "</style>\n",
       "<table border=\"1\" class=\"dataframe\">\n",
       "  <thead>\n",
       "    <tr style=\"text-align: right;\">\n",
       "      <th></th>\n",
       "      <th>model</th>\n",
       "      <th>rmse</th>\n",
       "      <th>r2</th>\n",
       "    </tr>\n",
       "  </thead>\n",
       "  <tbody>\n",
       "    <tr>\n",
       "      <th>0</th>\n",
       "      <td>baseline</td>\n",
       "      <td>243873.348212</td>\n",
       "      <td>0.000000</td>\n",
       "    </tr>\n",
       "    <tr>\n",
       "      <th>1</th>\n",
       "      <td>ols+RFE</td>\n",
       "      <td>62884.240368</td>\n",
       "      <td>0.933364</td>\n",
       "    </tr>\n",
       "    <tr>\n",
       "      <th>2</th>\n",
       "      <td>ols</td>\n",
       "      <td>59802.761768</td>\n",
       "      <td>0.939734</td>\n",
       "    </tr>\n",
       "    <tr>\n",
       "      <th>3</th>\n",
       "      <td>lars</td>\n",
       "      <td>59936.415542</td>\n",
       "      <td>0.939465</td>\n",
       "    </tr>\n",
       "    <tr>\n",
       "      <th>4</th>\n",
       "      <td>poly_2D</td>\n",
       "      <td>54341.118586</td>\n",
       "      <td>0.950239</td>\n",
       "    </tr>\n",
       "    <tr>\n",
       "      <th>5</th>\n",
       "      <td>glm</td>\n",
       "      <td>211006.173011</td>\n",
       "      <td>0.249729</td>\n",
       "    </tr>\n",
       "    <tr>\n",
       "      <th>6</th>\n",
       "      <td>test</td>\n",
       "      <td>54852.250710</td>\n",
       "      <td>0.949499</td>\n",
       "    </tr>\n",
       "  </tbody>\n",
       "</table>\n",
       "</div>"
      ],
      "text/plain": [
       "      model           rmse        r2\n",
       "0  baseline  243873.348212  0.000000\n",
       "1   ols+RFE   62884.240368  0.933364\n",
       "2       ols   59802.761768  0.939734\n",
       "3      lars   59936.415542  0.939465\n",
       "4   poly_2D   54341.118586  0.950239\n",
       "5       glm  211006.173011  0.249729\n",
       "6      test   54852.250710  0.949499"
      ]
     },
     "execution_count": 43,
     "metadata": {},
     "output_type": "execute_result"
    }
   ],
   "source": [
    "metrics_df.loc[6] = ['test',rmse,r2]\n",
    "metrics_df"
   ]
  },
  {
   "cell_type": "code",
   "execution_count": 44,
   "id": "c6415258-cf81-461f-bf24-718e2c95ae80",
   "metadata": {},
   "outputs": [
    {
     "data": {
      "text/html": [
       "<div>\n",
       "<style scoped>\n",
       "    .dataframe tbody tr th:only-of-type {\n",
       "        vertical-align: middle;\n",
       "    }\n",
       "\n",
       "    .dataframe tbody tr th {\n",
       "        vertical-align: top;\n",
       "    }\n",
       "\n",
       "    .dataframe thead th {\n",
       "        text-align: right;\n",
       "    }\n",
       "</style>\n",
       "<table border=\"1\" class=\"dataframe\">\n",
       "  <thead>\n",
       "    <tr style=\"text-align: right;\">\n",
       "      <th></th>\n",
       "      <th>bedrooms</th>\n",
       "      <th>bathrooms</th>\n",
       "      <th>area</th>\n",
       "      <th>yearbuilt</th>\n",
       "      <th>taxamount</th>\n",
       "      <th>county_Orange</th>\n",
       "      <th>county_Ventura</th>\n",
       "    </tr>\n",
       "  </thead>\n",
       "  <tbody>\n",
       "    <tr>\n",
       "      <th>1196984</th>\n",
       "      <td>3.0</td>\n",
       "      <td>1.0</td>\n",
       "      <td>1036</td>\n",
       "      <td>1947</td>\n",
       "      <td>2431.39</td>\n",
       "      <td>0</td>\n",
       "      <td>0</td>\n",
       "    </tr>\n",
       "    <tr>\n",
       "      <th>1563409</th>\n",
       "      <td>3.0</td>\n",
       "      <td>2.0</td>\n",
       "      <td>1878</td>\n",
       "      <td>1959</td>\n",
       "      <td>4311.80</td>\n",
       "      <td>0</td>\n",
       "      <td>0</td>\n",
       "    </tr>\n",
       "    <tr>\n",
       "      <th>486661</th>\n",
       "      <td>3.0</td>\n",
       "      <td>3.0</td>\n",
       "      <td>2430</td>\n",
       "      <td>1966</td>\n",
       "      <td>8859.09</td>\n",
       "      <td>0</td>\n",
       "      <td>0</td>\n",
       "    </tr>\n",
       "    <tr>\n",
       "      <th>328430</th>\n",
       "      <td>3.0</td>\n",
       "      <td>2.0</td>\n",
       "      <td>1605</td>\n",
       "      <td>1943</td>\n",
       "      <td>2985.87</td>\n",
       "      <td>0</td>\n",
       "      <td>0</td>\n",
       "    </tr>\n",
       "    <tr>\n",
       "      <th>654871</th>\n",
       "      <td>6.0</td>\n",
       "      <td>3.0</td>\n",
       "      <td>2700</td>\n",
       "      <td>1984</td>\n",
       "      <td>3202.70</td>\n",
       "      <td>1</td>\n",
       "      <td>0</td>\n",
       "    </tr>\n",
       "    <tr>\n",
       "      <th>...</th>\n",
       "      <td>...</td>\n",
       "      <td>...</td>\n",
       "      <td>...</td>\n",
       "      <td>...</td>\n",
       "      <td>...</td>\n",
       "      <td>...</td>\n",
       "      <td>...</td>\n",
       "    </tr>\n",
       "    <tr>\n",
       "      <th>225651</th>\n",
       "      <td>3.0</td>\n",
       "      <td>3.0</td>\n",
       "      <td>2289</td>\n",
       "      <td>2002</td>\n",
       "      <td>5666.90</td>\n",
       "      <td>1</td>\n",
       "      <td>0</td>\n",
       "    </tr>\n",
       "    <tr>\n",
       "      <th>741819</th>\n",
       "      <td>4.0</td>\n",
       "      <td>3.0</td>\n",
       "      <td>2837</td>\n",
       "      <td>1972</td>\n",
       "      <td>6342.54</td>\n",
       "      <td>1</td>\n",
       "      <td>0</td>\n",
       "    </tr>\n",
       "    <tr>\n",
       "      <th>1989492</th>\n",
       "      <td>3.0</td>\n",
       "      <td>2.5</td>\n",
       "      <td>1462</td>\n",
       "      <td>1976</td>\n",
       "      <td>4173.76</td>\n",
       "      <td>1</td>\n",
       "      <td>0</td>\n",
       "    </tr>\n",
       "    <tr>\n",
       "      <th>662013</th>\n",
       "      <td>2.0</td>\n",
       "      <td>2.0</td>\n",
       "      <td>1191</td>\n",
       "      <td>1949</td>\n",
       "      <td>5178.11</td>\n",
       "      <td>0</td>\n",
       "      <td>0</td>\n",
       "    </tr>\n",
       "    <tr>\n",
       "      <th>855329</th>\n",
       "      <td>3.0</td>\n",
       "      <td>1.0</td>\n",
       "      <td>1620</td>\n",
       "      <td>1947</td>\n",
       "      <td>1367.33</td>\n",
       "      <td>0</td>\n",
       "      <td>0</td>\n",
       "    </tr>\n",
       "  </tbody>\n",
       "</table>\n",
       "<p>1220434 rows × 7 columns</p>\n",
       "</div>"
      ],
      "text/plain": [
       "         bedrooms  bathrooms  area  yearbuilt  taxamount  county_Orange  \\\n",
       "1196984       3.0        1.0  1036       1947    2431.39              0   \n",
       "1563409       3.0        2.0  1878       1959    4311.80              0   \n",
       "486661        3.0        3.0  2430       1966    8859.09              0   \n",
       "328430        3.0        2.0  1605       1943    2985.87              0   \n",
       "654871        6.0        3.0  2700       1984    3202.70              1   \n",
       "...           ...        ...   ...        ...        ...            ...   \n",
       "225651        3.0        3.0  2289       2002    5666.90              1   \n",
       "741819        4.0        3.0  2837       1972    6342.54              1   \n",
       "1989492       3.0        2.5  1462       1976    4173.76              1   \n",
       "662013        2.0        2.0  1191       1949    5178.11              0   \n",
       "855329        3.0        1.0  1620       1947    1367.33              0   \n",
       "\n",
       "         county_Ventura  \n",
       "1196984               0  \n",
       "1563409               0  \n",
       "486661                0  \n",
       "328430                0  \n",
       "654871                0  \n",
       "...                 ...  \n",
       "225651                0  \n",
       "741819                0  \n",
       "1989492               0  \n",
       "662013                0  \n",
       "855329                0  \n",
       "\n",
       "[1220434 rows x 7 columns]"
      ]
     },
     "execution_count": 44,
     "metadata": {},
     "output_type": "execute_result"
    }
   ],
   "source": [
    "X_train"
   ]
  },
  {
   "cell_type": "markdown",
   "id": "7abd0450-ed40-4d23-98e0-c41147bb113b",
   "metadata": {},
   "source": [
    "### plot actuals vs predicted"
   ]
  },
  {
   "cell_type": "code",
   "execution_count": 45,
   "id": "92616435-2770-4823-88eb-c9f33d5a52a6",
   "metadata": {},
   "outputs": [
    {
     "data": {
      "image/png": "[encoded data removed]",
      "text/plain": [
       "<Figure size 640x480 with 1 Axes>"
      ]
     },
     "metadata": {},
     "output_type": "display_data"
    }
   ],
   "source": [
    "plt.scatter(pred_lr, y_train, label='linear regression')\n",
    "plt.scatter(pred_pr, y_train, label='polynominal 2deg')\n",
    "plt.scatter(pred_glm, y_train, label='glm')\n",
    "plt.plot(y_train, y_train, label='_nolegend_', color='grey')\n",
    "\n",
    "plt.axhline(baseline, ls=':', color='grey')\n",
    "plt.annotate(\"Baseline\", (65, 81))\n",
    "\n",
    "plt.title(\"Where are predictions more extreme? More modest?\")\n",
    "plt.ylabel(\"Actual Property Value\")\n",
    "plt.xlabel(\"Predicted Property Value\")\n",
    "plt.legend()\n",
    "\n",
    "plt.show()"
   ]
  },
  {
   "cell_type": "markdown",
   "id": "7b76a163-2a87-4ef9-b96d-3792f755e239",
   "metadata": {},
   "source": [
    "### plotting the residuals"
   ]
  },
  {
   "cell_type": "code",
   "execution_count": 46,
   "id": "0e6c1d0f-e0ed-4b85-ba11-c459194a5b61",
   "metadata": {},
   "outputs": [
    {
     "data": {
      "image/png": "[encoded data removed]",
      "text/plain": [
       "<Figure size 640x480 with 1 Axes>"
      ]
     },
     "metadata": {},
     "output_type": "display_data"
    }
   ],
   "source": [
    "plt.axhline(label=\"No Error\")\n",
    "\n",
    "plt.scatter(y_train, pred_lr - y_train, alpha=.5, color=\"red\", label=\"LinearRegression\")\n",
    "plt.scatter(y_train, pred_glm - y_train, alpha=.5, color=\"yellow\", label=\"TweedieRegressor\")\n",
    "plt.scatter(y_train, pred_pr - y_train, alpha=.5, color=\"green\", label=\"Polynomial 2deg \")\n",
    "\n",
    "plt.legend()\n",
    "plt.title(\"Do the size of errors change as the actual value changes?\")\n",
    "plt.xlabel(\"Actual Property Value\")\n",
    "plt.ylabel(\"Residual: Predicted Property Value - Actual Property Value\")\n",
    "\n",
    "plt.show()"
   ]
  },
  {
   "cell_type": "markdown",
   "id": "42b0a3ec-3bc5-4f1c-b8c1-7102ecde9b17",
   "metadata": {},
   "source": [
    "### histogram of actual and predicted values"
   ]
  },
  {
   "cell_type": "code",
   "execution_count": 47,
   "id": "216f52df-8ce3-49b5-83d1-53f1c933b8ac",
   "metadata": {},
   "outputs": [
    {
     "data": {
      "image/png": "[encoded data removed]",
      "text/plain": [
       "<Figure size 640x480 with 1 Axes>"
      ]
     },
     "metadata": {},
     "output_type": "display_data"
    }
   ],
   "source": [
    "plt.hist(y_train, color='blue', alpha=.5, label=\"Actual\")\n",
    "plt.hist(pred_lr, color='red', alpha=.5, label=\"LinearRegression\")\n",
    "plt.hist(pred_glm, color='yellow', alpha=.5, label=\"TweedieRegressor\")\n",
    "plt.hist(pred_pr, color='green', alpha=.5, label=\"Polynomial 2Deg\")\n",
    "\n",
    "plt.xlabel(\"Property Value\")\n",
    "plt.ylabel(\"Properties\")\n",
    "plt.title(\"Comparing the Distribution of Actual to Predicted Property Value\")\n",
    "plt.legend()\n",
    "plt.show()"
   ]
  },
  {
   "cell_type": "code",
   "execution_count": null,
   "id": "dd9a9c0d-7078-4270-884c-8db55d3283ad",
   "metadata": {},
   "outputs": [],
   "source": []
  },
  {
   "cell_type": "code",
   "execution_count": null,
   "id": "a2724807-ec28-4617-b0f2-cc56a2ef09bc",
   "metadata": {},
   "outputs": [],
   "source": []
  }
 ],
 "metadata": {
  "kernelspec": {
   "display_name": "Python 3 (ipykernel)",
   "language": "python",
   "name": "python3"
  },
  "language_info": {
   "codemirror_mode": {
    "name": "ipython",
    "version": 3
   },
   "file_extension": ".py",
   "mimetype": "text/x-python",
   "name": "python",
   "nbconvert_exporter": "python",
   "pygments_lexer": "ipython3",
   "version": "3.9.13"
  }
 },
 "nbformat": 4,
 "nbformat_minor": 5
}
